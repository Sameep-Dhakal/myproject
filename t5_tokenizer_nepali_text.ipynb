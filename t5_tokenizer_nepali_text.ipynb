{
  "nbformat": 4,
  "nbformat_minor": 0,
  "metadata": {
    "colab": {
      "name": "t5 tokenizer nepali text.ipynb",
      "provenance": [],
      "collapsed_sections": [],
      "authorship_tag": "ABX9TyONKuih0JQF35ns5G0Oc+RU",
      "include_colab_link": true
    },
    "kernelspec": {
      "name": "python3",
      "display_name": "Python 3"
    },
    "widgets": {
      "application/vnd.jupyter.widget-state+json": {
        "d53b40dd14ad48cb8f2de58e43e8c689": {
          "model_module": "@jupyter-widgets/controls",
          "model_name": "HBoxModel",
          "state": {
            "_view_name": "HBoxView",
            "_dom_classes": [],
            "_model_name": "HBoxModel",
            "_view_module": "@jupyter-widgets/controls",
            "_model_module_version": "1.5.0",
            "_view_count": null,
            "_view_module_version": "1.5.0",
            "box_style": "",
            "layout": "IPY_MODEL_8cfa8a745ee9402095d488eec9ab53b6",
            "_model_module": "@jupyter-widgets/controls",
            "children": [
              "IPY_MODEL_a567ac81601443d3ba6c1eb5b2bc7953",
              "IPY_MODEL_1c5cf1db7c28481296c9d0f2232b4cc7"
            ]
          }
        },
        "8cfa8a745ee9402095d488eec9ab53b6": {
          "model_module": "@jupyter-widgets/base",
          "model_name": "LayoutModel",
          "state": {
            "_view_name": "LayoutView",
            "grid_template_rows": null,
            "right": null,
            "justify_content": null,
            "_view_module": "@jupyter-widgets/base",
            "overflow": null,
            "_model_module_version": "1.2.0",
            "_view_count": null,
            "flex_flow": null,
            "width": null,
            "min_width": null,
            "border": null,
            "align_items": null,
            "bottom": null,
            "_model_module": "@jupyter-widgets/base",
            "top": null,
            "grid_column": null,
            "overflow_y": null,
            "overflow_x": null,
            "grid_auto_flow": null,
            "grid_area": null,
            "grid_template_columns": null,
            "flex": null,
            "_model_name": "LayoutModel",
            "justify_items": null,
            "grid_row": null,
            "max_height": null,
            "align_content": null,
            "visibility": null,
            "align_self": null,
            "height": null,
            "min_height": null,
            "padding": null,
            "grid_auto_rows": null,
            "grid_gap": null,
            "max_width": null,
            "order": null,
            "_view_module_version": "1.2.0",
            "grid_template_areas": null,
            "object_position": null,
            "object_fit": null,
            "grid_auto_columns": null,
            "margin": null,
            "display": null,
            "left": null
          }
        },
        "a567ac81601443d3ba6c1eb5b2bc7953": {
          "model_module": "@jupyter-widgets/controls",
          "model_name": "FloatProgressModel",
          "state": {
            "_view_name": "ProgressView",
            "style": "IPY_MODEL_a85224c9498a480c8d6784cc5b1ecac2",
            "_dom_classes": [],
            "description": "Downloading: 100%",
            "_model_name": "FloatProgressModel",
            "bar_style": "success",
            "max": 995526,
            "_view_module": "@jupyter-widgets/controls",
            "_model_module_version": "1.5.0",
            "value": 995526,
            "_view_count": null,
            "_view_module_version": "1.5.0",
            "orientation": "horizontal",
            "min": 0,
            "description_tooltip": null,
            "_model_module": "@jupyter-widgets/controls",
            "layout": "IPY_MODEL_8ae6dc37265d4d1faf46300f55701465"
          }
        },
        "1c5cf1db7c28481296c9d0f2232b4cc7": {
          "model_module": "@jupyter-widgets/controls",
          "model_name": "HTMLModel",
          "state": {
            "_view_name": "HTMLView",
            "style": "IPY_MODEL_607c798ad7334a88835755283fa4cee0",
            "_dom_classes": [],
            "description": "",
            "_model_name": "HTMLModel",
            "placeholder": "​",
            "_view_module": "@jupyter-widgets/controls",
            "_model_module_version": "1.5.0",
            "value": " 996k/996k [00:00&lt;00:00, 3.20MB/s]",
            "_view_count": null,
            "_view_module_version": "1.5.0",
            "description_tooltip": null,
            "_model_module": "@jupyter-widgets/controls",
            "layout": "IPY_MODEL_8a207b4e5ea74833ae96cab362565a9b"
          }
        },
        "a85224c9498a480c8d6784cc5b1ecac2": {
          "model_module": "@jupyter-widgets/controls",
          "model_name": "ProgressStyleModel",
          "state": {
            "_view_name": "StyleView",
            "_model_name": "ProgressStyleModel",
            "description_width": "initial",
            "_view_module": "@jupyter-widgets/base",
            "_model_module_version": "1.5.0",
            "_view_count": null,
            "_view_module_version": "1.2.0",
            "bar_color": null,
            "_model_module": "@jupyter-widgets/controls"
          }
        },
        "8ae6dc37265d4d1faf46300f55701465": {
          "model_module": "@jupyter-widgets/base",
          "model_name": "LayoutModel",
          "state": {
            "_view_name": "LayoutView",
            "grid_template_rows": null,
            "right": null,
            "justify_content": null,
            "_view_module": "@jupyter-widgets/base",
            "overflow": null,
            "_model_module_version": "1.2.0",
            "_view_count": null,
            "flex_flow": null,
            "width": null,
            "min_width": null,
            "border": null,
            "align_items": null,
            "bottom": null,
            "_model_module": "@jupyter-widgets/base",
            "top": null,
            "grid_column": null,
            "overflow_y": null,
            "overflow_x": null,
            "grid_auto_flow": null,
            "grid_area": null,
            "grid_template_columns": null,
            "flex": null,
            "_model_name": "LayoutModel",
            "justify_items": null,
            "grid_row": null,
            "max_height": null,
            "align_content": null,
            "visibility": null,
            "align_self": null,
            "height": null,
            "min_height": null,
            "padding": null,
            "grid_auto_rows": null,
            "grid_gap": null,
            "max_width": null,
            "order": null,
            "_view_module_version": "1.2.0",
            "grid_template_areas": null,
            "object_position": null,
            "object_fit": null,
            "grid_auto_columns": null,
            "margin": null,
            "display": null,
            "left": null
          }
        },
        "607c798ad7334a88835755283fa4cee0": {
          "model_module": "@jupyter-widgets/controls",
          "model_name": "DescriptionStyleModel",
          "state": {
            "_view_name": "StyleView",
            "_model_name": "DescriptionStyleModel",
            "description_width": "",
            "_view_module": "@jupyter-widgets/base",
            "_model_module_version": "1.5.0",
            "_view_count": null,
            "_view_module_version": "1.2.0",
            "_model_module": "@jupyter-widgets/controls"
          }
        },
        "8a207b4e5ea74833ae96cab362565a9b": {
          "model_module": "@jupyter-widgets/base",
          "model_name": "LayoutModel",
          "state": {
            "_view_name": "LayoutView",
            "grid_template_rows": null,
            "right": null,
            "justify_content": null,
            "_view_module": "@jupyter-widgets/base",
            "overflow": null,
            "_model_module_version": "1.2.0",
            "_view_count": null,
            "flex_flow": null,
            "width": null,
            "min_width": null,
            "border": null,
            "align_items": null,
            "bottom": null,
            "_model_module": "@jupyter-widgets/base",
            "top": null,
            "grid_column": null,
            "overflow_y": null,
            "overflow_x": null,
            "grid_auto_flow": null,
            "grid_area": null,
            "grid_template_columns": null,
            "flex": null,
            "_model_name": "LayoutModel",
            "justify_items": null,
            "grid_row": null,
            "max_height": null,
            "align_content": null,
            "visibility": null,
            "align_self": null,
            "height": null,
            "min_height": null,
            "padding": null,
            "grid_auto_rows": null,
            "grid_gap": null,
            "max_width": null,
            "order": null,
            "_view_module_version": "1.2.0",
            "grid_template_areas": null,
            "object_position": null,
            "object_fit": null,
            "grid_auto_columns": null,
            "margin": null,
            "display": null,
            "left": null
          }
        }
      }
    }
  },
  "cells": [
    {
      "cell_type": "markdown",
      "metadata": {
        "id": "view-in-github",
        "colab_type": "text"
      },
      "source": [
        "<a href=\"https://colab.research.google.com/github/sameep114/myproject/blob/master/t5_tokenizer_nepali_text.ipynb\" target=\"_parent\"><img src=\"https://colab.research.google.com/assets/colab-badge.svg\" alt=\"Open In Colab\"/></a>"
      ]
    },
    {
      "cell_type": "code",
      "metadata": {
        "colab": {
          "base_uri": "https://localhost:8080/"
        },
        "id": "eKYLBHtn0Pvc",
        "outputId": "45e99570-2841-435d-d532-890916705a8a"
      },
      "source": [
        "!pip install transformers"
      ],
      "execution_count": 1,
      "outputs": [
        {
          "output_type": "stream",
          "text": [
            "Collecting transformers\n",
            "\u001b[?25l  Downloading https://files.pythonhosted.org/packages/3a/83/e74092e7f24a08d751aa59b37a9fc572b2e4af3918cb66f7766c3affb1b4/transformers-3.5.1-py3-none-any.whl (1.3MB)\n",
            "\u001b[K     |████████████████████████████████| 1.3MB 3.5MB/s \n",
            "\u001b[?25hRequirement already satisfied: requests in /usr/local/lib/python3.6/dist-packages (from transformers) (2.23.0)\n",
            "Collecting tokenizers==0.9.3\n",
            "\u001b[?25l  Downloading https://files.pythonhosted.org/packages/4c/34/b39eb9994bc3c999270b69c9eea40ecc6f0e97991dba28282b9fd32d44ee/tokenizers-0.9.3-cp36-cp36m-manylinux1_x86_64.whl (2.9MB)\n",
            "\u001b[K     |████████████████████████████████| 2.9MB 40.3MB/s \n",
            "\u001b[?25hCollecting sentencepiece==0.1.91\n",
            "\u001b[?25l  Downloading https://files.pythonhosted.org/packages/d4/a4/d0a884c4300004a78cca907a6ff9a5e9fe4f090f5d95ab341c53d28cbc58/sentencepiece-0.1.91-cp36-cp36m-manylinux1_x86_64.whl (1.1MB)\n",
            "\u001b[K     |████████████████████████████████| 1.1MB 24.6MB/s \n",
            "\u001b[?25hRequirement already satisfied: numpy in /usr/local/lib/python3.6/dist-packages (from transformers) (1.18.5)\n",
            "Requirement already satisfied: tqdm>=4.27 in /usr/local/lib/python3.6/dist-packages (from transformers) (4.41.1)\n",
            "Requirement already satisfied: filelock in /usr/local/lib/python3.6/dist-packages (from transformers) (3.0.12)\n",
            "Requirement already satisfied: packaging in /usr/local/lib/python3.6/dist-packages (from transformers) (20.4)\n",
            "Collecting sacremoses\n",
            "\u001b[?25l  Downloading https://files.pythonhosted.org/packages/7d/34/09d19aff26edcc8eb2a01bed8e98f13a1537005d31e95233fd48216eed10/sacremoses-0.0.43.tar.gz (883kB)\n",
            "\u001b[K     |████████████████████████████████| 890kB 47.6MB/s \n",
            "\u001b[?25hRequirement already satisfied: protobuf in /usr/local/lib/python3.6/dist-packages (from transformers) (3.12.4)\n",
            "Requirement already satisfied: dataclasses; python_version < \"3.7\" in /usr/local/lib/python3.6/dist-packages (from transformers) (0.7)\n",
            "Requirement already satisfied: regex!=2019.12.17 in /usr/local/lib/python3.6/dist-packages (from transformers) (2019.12.20)\n",
            "Requirement already satisfied: idna<3,>=2.5 in /usr/local/lib/python3.6/dist-packages (from requests->transformers) (2.10)\n",
            "Requirement already satisfied: certifi>=2017.4.17 in /usr/local/lib/python3.6/dist-packages (from requests->transformers) (2020.6.20)\n",
            "Requirement already satisfied: chardet<4,>=3.0.2 in /usr/local/lib/python3.6/dist-packages (from requests->transformers) (3.0.4)\n",
            "Requirement already satisfied: urllib3!=1.25.0,!=1.25.1,<1.26,>=1.21.1 in /usr/local/lib/python3.6/dist-packages (from requests->transformers) (1.24.3)\n",
            "Requirement already satisfied: pyparsing>=2.0.2 in /usr/local/lib/python3.6/dist-packages (from packaging->transformers) (2.4.7)\n",
            "Requirement already satisfied: six in /usr/local/lib/python3.6/dist-packages (from packaging->transformers) (1.15.0)\n",
            "Requirement already satisfied: click in /usr/local/lib/python3.6/dist-packages (from sacremoses->transformers) (7.1.2)\n",
            "Requirement already satisfied: joblib in /usr/local/lib/python3.6/dist-packages (from sacremoses->transformers) (0.17.0)\n",
            "Requirement already satisfied: setuptools in /usr/local/lib/python3.6/dist-packages (from protobuf->transformers) (50.3.2)\n",
            "Building wheels for collected packages: sacremoses\n",
            "  Building wheel for sacremoses (setup.py) ... \u001b[?25l\u001b[?25hdone\n",
            "  Created wheel for sacremoses: filename=sacremoses-0.0.43-cp36-none-any.whl size=893257 sha256=598dcc8f99e263f46b8612f333b4ddad24264e0b4d00d2bb40666b7b9ab8889e\n",
            "  Stored in directory: /root/.cache/pip/wheels/29/3c/fd/7ce5c3f0666dab31a50123635e6fb5e19ceb42ce38d4e58f45\n",
            "Successfully built sacremoses\n",
            "Installing collected packages: tokenizers, sentencepiece, sacremoses, transformers\n",
            "Successfully installed sacremoses-0.0.43 sentencepiece-0.1.91 tokenizers-0.9.3 transformers-3.5.1\n"
          ],
          "name": "stdout"
        }
      ]
    },
    {
      "cell_type": "code",
      "metadata": {
        "id": "HlAfzp84zjz1"
      },
      "source": [
        "import os\n",
        "\n",
        "import pandas as pd\n"
      ],
      "execution_count": 2,
      "outputs": []
    },
    {
      "cell_type": "code",
      "metadata": {
        "colab": {
          "base_uri": "https://localhost:8080/"
        },
        "id": "OR6qXwSh0wxH",
        "outputId": "4c369654-900b-4f5d-a200-e01837fa23cc"
      },
      "source": [
        "from transformers import  T5Tokenizer, TFT5ForConditionalGeneration\n",
        "model=TFT5ForConditionalGeneration.from_pretrained('t5-small')\n",
        "tokenizer= T5Tokenizer.from_pretrained('t5-small')"
      ],
      "execution_count": 19,
      "outputs": [
        {
          "output_type": "stream",
          "text": [
            "All model checkpoint layers were used when initializing TFT5ForConditionalGeneration.\n",
            "\n",
            "All the layers of TFT5ForConditionalGeneration were initialized from the model checkpoint at t5-small.\n",
            "If your task is similar to the task the model of the checkpoint was trained on, you can already use TFT5ForConditionalGeneration for predictions without further training.\n"
          ],
          "name": "stderr"
        }
      ]
    },
    {
      "cell_type": "code",
      "metadata": {
        "id": "l_iJurkhy-Qp"
      },
      "source": [
        "text=\"\"\"\n",
        "सहज रुपमा भन्नुपर्दा नेपाली भनेको नेपालमा बस्ने नागरिक हो । हामी नेपाली नेपाललाई अंग्रेजबाट मुक्त गराएर स्वच्छ बनाउने बिर योद्धा हो । नेपाल अनेक जात, अनेक धर्म र अनेक भाषाभेष मिसिएर बनेको छ। हामी नेपालीमा घमण्ड र स्वार्थ भन्ने भावना उठेको छैन। हामी निस्वार्थी र धर्मको बाटोमा लाग्ने मानिस हौ। हामी रिस,राग,कपट र छल कहिले गर्दैनौ। हाम्रो देश स्वर्ग झैँ सुन्दर र चद्रमा झैँ चम्किलो छ। हामी नेपाली एकतामा बसेर हरेक कम गर्छौ र सफलता प्राप्त गर्छौ।\n",
        "                                            हाम्रो देशमा एक पछि एक महान पुरुषहरु जन्मेका हुन्। जस्तै-प्रिथिवी नारायण शाह,बलभद्र कुँवर आदि। उहाँहरुले ठुला ठुला काम गरी जानुभएको छ। उहाँहरुले देशका लागि केही न केही योगदान दिएर गएका हन्। हामी नेपाली तिनीहरुका छोराछोरी हौ र त्यसै कारणले हामीले पनि देशको लागि केही गर्नुपर्छ। हाम्रो देशमा बिर गोर्खालीहरु जन्मेका हुन्, उनिहेरुले शत्रुहरुलाई पराजित गरेर हाम्रो देशलाई जोगाएका हुन्। उनीहरु नेपालमै जन्मेका थिए। उनीहरुको जस्तै हामीले पनि आफ्नो प्राणको चिन्ता नगरी देशलाई हरेक परिस्थितिबाट बचाउनुपर्छ। हामी नेपालीले नेपाललाई विकास तर्फ लानु पर्छ। हामी नेपालीले कर्म मात्र गर्नुपर्छ, फलको उपेक्षा गर्नु हुँदैन। हामी नेपालले विर गोर्खाली रगतले हार मान्दैनौ र गौतम बुद्धको शिक्षालाई चारै तर्फ बाटछौ। हामी नेपालीले आफ्नो ज्ञानले सबैलाई पवित्र बनाउनुपर्छ। हामी नेपालीले दुखसुख बाटी हरेकलाई सहयोग गर्छौ र गरिबलाई खान,कपडा,घर आदि गरिदिन्छौ।हामी नेपाली दयालु छौ र परिश्रम गरी हरेक कम गर्छौ।\n",
        "                                                  \n",
        " हामी नेपालीले एकतामा बसी देशमा परेको हरेक समस्यालाई समाधान गर्छौ। नेपाल आमालै पिर परेको बेला हामी अगाडि बढ्छौ र देशलाई संकटबाट मुक्त गर्छौ। हामीले आफ्नो देशलाई दियोको जस्तो सधैभरिको उज्यालो रक्छौ। त्यसैले हामीले आफ्नो कर्तव्यलाई सधै पुरा गर्नुपर्छ र देशलाई स्वर्ग झैँ सुन्दर बनाउन सक्नुपर्छ । हामी नेपाली अरुको भर पर्दैनौ। हामीले आफुले नै कर्म गरी आफ्नो घरपरिवारलाई पाल्छौ र देशलाई सुन्दर र स्वच्छ राखना प्रयास गर्छौ।\n",
        "\n",
        "यदि तपाइलाई अझै चाहियो भने कृपया comment मा इमेल लेखेर दिनुहोला अथवा subscribe गर्नुहोस ।\n",
        "\"\"\""
      ],
      "execution_count": 6,
      "outputs": []
    },
    {
      "cell_type": "code",
      "metadata": {
        "id": "9ip_6AgZ6HRj"
      },
      "source": [
        "text=\"\"\"During school days, I have developed an interest in playing games, staging dramas, debating and other extra-curricular activities.\n",
        "\n",
        "I am a good debater and orator, athlete, and sportsman and at the same time, I hold top positions in the class in the academic field. All the qualities of head and heart have earned me a profound love and respect from my teachers and friends. My teachers encourage and help me in all possible ways. I am in the good books of all the teachers as well as the principal because I have won many medals, trophies, shields, and certificates for my extraordinary display of abilities in examinations, athletics, debates, and theatre.\n",
        "\n",
        "The good ideas-like love for the motherland, devotion to duty, obedience- towards elders, service to the nation, helping the poor and the needy, nursing the sick, feeding the hungry, etc – are inculcated in the students during their school days.\n",
        "\n",
        "Broadly speaking, school life is not only for learning, reading books or playing, but also a period during which all the good habits are acquired, bad habits are shunned and good conduct, fair play, and sound thinking are developed. Further, the healthy ideas of patriotism and nationalism are imbibed by the students during this period.\n",
        "\n",
        "My school life shall prepare me for a sound and firm foundation upon which the building of my life is going to be erected. My mistakes and failures would guide me in my future life. I do not feel discouraged and disheartened because for me the failures are the stepping stones to success. My school life is a great and valuable experience, the best teacher. I shall always remember my school days fondly.\n",
        "\"\"\""
      ],
      "execution_count": 20,
      "outputs": []
    },
    {
      "cell_type": "markdown",
      "metadata": {
        "id": "QTEs9dzN2BG8"
      },
      "source": [
        "**The Output below is givent for tokenized text by t-5 **"
      ]
    },
    {
      "cell_type": "code",
      "metadata": {
        "id": "unQguPLA1VT0",
        "colab": {
          "base_uri": "https://localhost:8080/"
        },
        "outputId": "3c68cee5-df3e-43db-c278-eb78b6136d02"
      },
      "source": [
        "preprocess_text = text.strip().replace(\"\\n\",\"\")\n",
        "t5_prepared_Text = \"summarize: \"+preprocess_text\n",
        "print (\"original text preprocessed: \\n\", preprocess_text)\n",
        "\n",
        "tokenized_text = tokenizer.encode(t5_prepared_Text, return_tensors=\"pt\")\n",
        "print(tokenized_text)"
      ],
      "execution_count": 21,
      "outputs": [
        {
          "output_type": "stream",
          "text": [
            "original text preprocessed: \n",
            " During school days, I have developed an interest in playing games, staging dramas, debating and other extra-curricular activities.I am a good debater and orator, athlete, and sportsman and at the same time, I hold top positions in the class in the academic field. All the qualities of head and heart have earned me a profound love and respect from my teachers and friends. My teachers encourage and help me in all possible ways. I am in the good books of all the teachers as well as the principal because I have won many medals, trophies, shields, and certificates for my extraordinary display of abilities in examinations, athletics, debates, and theatre.The good ideas-like love for the motherland, devotion to duty, obedience- towards elders, service to the nation, helping the poor and the needy, nursing the sick, feeding the hungry, etc – are inculcated in the students during their school days.Broadly speaking, school life is not only for learning, reading books or playing, but also a period during which all the good habits are acquired, bad habits are shunned and good conduct, fair play, and sound thinking are developed. Further, the healthy ideas of patriotism and nationalism are imbibed by the students during this period.My school life shall prepare me for a sound and firm foundation upon which the building of my life is going to be erected. My mistakes and failures would guide me in my future life. I do not feel discouraged and disheartened because for me the failures are the stepping stones to success. My school life is a great and valuable experience, the best teacher. I shall always remember my school days fondly.\n",
            "tensor([[21603,    10,     3,  2092,   496,   477,     6,    27,    43,  1597,\n",
            "            46,  1046,    16,  1556,  1031,     6, 25522,  6616,     7,     6,\n",
            "            20,   115,  1014,    11,   119,   996,    18, 27427,  1087,     5,\n",
            "           196,   183,     3,     9,   207,  5054,    52,    11,    42,  1016,\n",
            "             6, 17893,     6,    11,  2100,   348,    11,    44,     8,   337,\n",
            "            97,     6,    27,  1520,   420,  4655,    16,     8,   853,    16,\n",
            "             8,  2705,  1057,     5,   432,     8, 10596,    13,   819,    11,\n",
            "           842,    43,  4964,   140,     3,     9, 13343,   333,    11,  1445,\n",
            "            45,    82,  3081,    11,   803,     5,   499,  3081,  2454,    11,\n",
            "           199,   140,    16,    66,   487,  1155,     5,    27,   183,    16,\n",
            "             8,   207,  1335,    13,    66,     8,  3081,    38,   168,    38,\n",
            "             8,  3218,   250,    27,    43,   751,   186,  9365,     7,     6,\n",
            "             3, 14618,   725,     6, 13128,     7,     6,    11, 16999,    21,\n",
            "            82,  9468,  1831,    13,  8075,    16,  6498,     7,     6, 12217,\n",
            "             7,     6,  5054,     7,     6,    11,  8516,     5,   634,   207,\n",
            "           912,    18,  2376,   333,    21,     8,  2039,    40,   232,     6,\n",
            "         20771,    12,  5461,     6, 29765,    18,  1587, 17813,     7,     6,\n",
            "           313,    12,     8,  2982,     6,  2022,     8,  2714,    11,     8,\n",
            "           174,    63,     6,  8205,     8,  6802,     6, 10795,     8, 13802,\n",
            "             6,   672,     3,   104,    33,    16,  1497,    75,   920,    16,\n",
            "             8,   481,   383,    70,   496,   477,     5,   279,  8635,   120,\n",
            "          4461,     6,   496,   280,    19,    59,   163,    21,  1036,     6,\n",
            "          1183,  1335,    42,  1556,     6,    68,    92,     3,     9,  1059,\n",
            "           383,    84,    66,     8,   207,  8966,    33,  7347,     6,  1282,\n",
            "          8966,    33,  6660,   202,    29,    15,    26,    11,   207,  3498,\n",
            "             6,  2725,   577,     6,    11,  1345,  1631,    33,  1597,     5,\n",
            "          9006,     6,     8,  1695,   912,    13,  6234, 12884,   159,    51,\n",
            "            11,  2982,  6835,    33,     3,    23, 14382,  4143,    57,     8,\n",
            "           481,   383,    48,  1059,     5,  7008,   496,   280,  1522,  2967,\n",
            "           140,    21,     3,     9,  1345,    11,  1669,  3361,  1286,    84,\n",
            "             8,   740,    13,    82,   280,    19,   352,    12,    36,     3,\n",
            "            49,  7633,     5,   499,  8176,    11,  3338,     7,   133,  1539,\n",
            "           140,    16,    82,   647,   280,     5,    27,   103,    59,   473,\n",
            "         20191,    26,    11,  4419,    15,  1408,  4632,   250,    21,   140,\n",
            "             8,  3338,     7,    33,     8,     3, 19115, 12906,    12,  1269,\n",
            "             5,   499,   496,   280,    19,     3,     9,   248,    11,  3435,\n",
            "           351,     6,     8,   200,  3145,     5,    27,  1522,   373,  1423,\n",
            "            82,   496,   477,  3036,   120,     5,     1]])\n"
          ],
          "name": "stdout"
        }
      ]
    },
    {
      "cell_type": "markdown",
      "metadata": {
        "id": "3C_a7-mIzKpc"
      },
      "source": [
        "now compairing output by bert tokenizer"
      ]
    },
    {
      "cell_type": "code",
      "metadata": {
        "colab": {
          "base_uri": "https://localhost:8080/",
          "height": 82,
          "referenced_widgets": [
            "d53b40dd14ad48cb8f2de58e43e8c689",
            "8cfa8a745ee9402095d488eec9ab53b6",
            "a567ac81601443d3ba6c1eb5b2bc7953",
            "1c5cf1db7c28481296c9d0f2232b4cc7",
            "a85224c9498a480c8d6784cc5b1ecac2",
            "8ae6dc37265d4d1faf46300f55701465",
            "607c798ad7334a88835755283fa4cee0",
            "8a207b4e5ea74833ae96cab362565a9b"
          ]
        },
        "id": "OFkFmSHA2Szf",
        "outputId": "ea1f69f8-e94a-4c68-aac0-2b93edabaa3b"
      },
      "source": [
        "from transformers import BertTokenizer\n",
        "\n",
        "#load bert tokenizer\n",
        "print(\"loading BERT  tokenizer...\")\n",
        "tokenizer=BertTokenizer.from_pretrained('bert-base-multilingual-cased',do_lower=True)"
      ],
      "execution_count": 11,
      "outputs": [
        {
          "output_type": "stream",
          "text": [
            "loading BERT  tokenizer...\n"
          ],
          "name": "stdout"
        },
        {
          "output_type": "display_data",
          "data": {
            "application/vnd.jupyter.widget-view+json": {
              "model_id": "d53b40dd14ad48cb8f2de58e43e8c689",
              "version_minor": 0,
              "version_major": 2
            },
            "text/plain": [
              "HBox(children=(FloatProgress(value=0.0, description='Downloading', max=995526.0, style=ProgressStyle(descripti…"
            ]
          },
          "metadata": {
            "tags": []
          }
        },
        {
          "output_type": "stream",
          "text": [
            "\n"
          ],
          "name": "stdout"
        }
      ]
    },
    {
      "cell_type": "code",
      "metadata": {
        "id": "OLY4lmPc2fNp"
      },
      "source": [
        "preprocess_text = text.strip().replace(\"\\n\",\"\")\n",
        "t5_prepared_Text = \"summarize: \"+preprocess_text\n",
        "print (\"original text preprocessed: \\n\", preprocess_text)\n",
        "\n",
        "tokenized_text = tokenizer.encode(t5_prepared_Text, return_tensors=\"pt\")\n",
        "print(tokenized_text)"
      ],
      "execution_count": null,
      "outputs": []
    },
    {
      "cell_type": "markdown",
      "metadata": {
        "id": "O7kuSVEm2qam"
      },
      "source": [
        "using t5 11b pretrained model"
      ]
    },
    {
      "cell_type": "code",
      "metadata": {
        "id": "oM5umYkZ3zjw"
      },
      "source": [
        "from transformers import  T5Tokenizer, TFT5ForConditionalGeneration\n",
        "# model=TFT5ForConditionalGeneration.from_pretrained('t5-small')\n",
        "tokenizer= T5Tokenizer.from_pretrained('t5-11b')"
      ],
      "execution_count": 18,
      "outputs": []
    },
    {
      "cell_type": "code",
      "metadata": {
        "id": "42PoSvSt37yx"
      },
      "source": [
        "preprocess_text = text.strip().replace(\"\\n\",\"\")\n",
        "t5_prepared_Text = \"summarize: \"+preprocess_text\n",
        "print (\"original text preprocessed: \\n\", preprocess_text)\n",
        "\n",
        "tokenized_text = tokenizer.encode(t5_prepared_Text, return_tensors=\"pt\")\n",
        "print(tokenized_text)"
      ],
      "execution_count": null,
      "outputs": []
    },
    {
      "cell_type": "code",
      "metadata": {
        "colab": {
          "base_uri": "https://localhost:8080/"
        },
        "id": "QBN9C6Ip7o5N",
        "outputId": "3683f99e-f129-4282-a036-641bf07bd6a7"
      },
      "source": [
        "Text = text.strip().replace(\"\\n\",\"\")\n",
        "Preprocessed_text = \"summarize: \"+Text\n",
        "print(preprocessed_text)\n",
        "tokens_input = tokenizer.encode(Preprocessed_text,return_tensors=\"tf\")"
      ],
      "execution_count": 32,
      "outputs": [
        {
          "output_type": "stream",
          "text": [
            "summarize: सहज रुपमा भन्नुपर्दा नेपाली भनेको नेपालमा बस्ने नागरिक हो । हामी नेपाली नेपाललाई अंग्रेजबाट मुक्त गराएर स्वच्छ बनाउने बिर योद्धा हो । नेपाल अनेक जात, अनेक धर्म र अनेक भाषाभेष मिसिएर बनेको छ। हामी नेपालीमा घमण्ड र स्वार्थ भन्ने भावना उठेको छैन। हामी निस्वार्थी र धर्मको बाटोमा लाग्ने मानिस हौ। हामी रिस,राग,कपट र छल कहिले गर्दैनौ। हाम्रो देश स्वर्ग झैँ सुन्दर र चद्रमा झैँ चम्किलो छ। हामी नेपाली एकतामा बसेर हरेक कम गर्छौ र सफलता प्राप्त गर्छौ।                                            हाम्रो देशमा एक पछि एक महान पुरुषहरु जन्मेका हुन्। जस्तै-प्रिथिवी नारायण शाह,बलभद्र कुँवर आदि। उहाँहरुले ठुला ठुला काम गरी जानुभएको छ। उहाँहरुले देशका लागि केही न केही योगदान दिएर गएका हन्। हामी नेपाली तिनीहरुका छोराछोरी हौ र त्यसै कारणले हामीले पनि देशको लागि केही गर्नुपर्छ। हाम्रो देशमा बिर गोर्खालीहरु जन्मेका हुन्, उनिहेरुले शत्रुहरुलाई पराजित गरेर हाम्रो देशलाई जोगाएका हुन्। उनीहरु नेपालमै जन्मेका थिए। उनीहरुको जस्तै हामीले पनि आफ्नो प्राणको चिन्ता नगरी देशलाई हरेक परिस्थितिबाट बचाउनुपर्छ। हामी नेपालीले नेपाललाई विकास तर्फ लानु पर्छ। हामी नेपालीले कर्म मात्र गर्नुपर्छ, फलको उपेक्षा गर्नु हुँदैन। हामी नेपालले विर गोर्खाली रगतले हार मान्दैनौ र गौतम बुद्धको शिक्षालाई चारै तर्फ बाटछौ। हामी नेपालीले आफ्नो ज्ञानले सबैलाई पवित्र बनाउनुपर्छ। हामी नेपालीले दुखसुख बाटी हरेकलाई सहयोग गर्छौ र गरिबलाई खान,कपडा,घर आदि गरिदिन्छौ।हामी नेपाली दयालु छौ र परिश्रम गरी हरेक कम गर्छौ।                                                   हामी नेपालीले एकतामा बसी देशमा परेको हरेक समस्यालाई समाधान गर्छौ। नेपाल आमालै पिर परेको बेला हामी अगाडि बढ्छौ र देशलाई संकटबाट मुक्त गर्छौ। हामीले आफ्नो देशलाई दियोको जस्तो सधैभरिको उज्यालो रक्छौ। त्यसैले हामीले आफ्नो कर्तव्यलाई सधै पुरा गर्नुपर्छ र देशलाई स्वर्ग झैँ सुन्दर बनाउन सक्नुपर्छ । हामी नेपाली अरुको भर पर्दैनौ। हामीले आफुले नै कर्म गरी आफ्नो घरपरिवारलाई पाल्छौ र देशलाई सुन्दर र स्वच्छ राखना प्रयास गर्छौ।यदि तपाइलाई अझै चाहियो भने कृपया comment मा इमेल लेखेर दिनुहोला अथवा subscribe गर्नुहोस ।\n"
          ],
          "name": "stdout"
        }
      ]
    },
    {
      "cell_type": "code",
      "metadata": {
        "id": "Jrl5VEdo4Sb6"
      },
      "source": [
        "summary_ids = model.generate(tokens_input,\n",
        "                             min_length=60,\n",
        "                             max_length=65,\n",
        "                             )\n",
        "\n",
        "summary = tokenizer.decode(summary_ids[0])"
      ],
      "execution_count": 35,
      "outputs": []
    },
    {
      "cell_type": "code",
      "metadata": {
        "colab": {
          "base_uri": "https://localhost:8080/"
        },
        "id": "VVEgH-e-7en9",
        "outputId": "ade60854-b741-459a-bad8-47479619c2b2"
      },
      "source": [
        "print(text)\n",
        "print(\"\\n\\n\\n\")\n",
        "print(summary)"
      ],
      "execution_count": 36,
      "outputs": [
        {
          "output_type": "stream",
          "text": [
            "During school days, I have developed an interest in playing games, staging dramas, debating and other extra-curricular activities.\n",
            "\n",
            "I am a good debater and orator, athlete, and sportsman and at the same time, I hold top positions in the class in the academic field. All the qualities of head and heart have earned me a profound love and respect from my teachers and friends. My teachers encourage and help me in all possible ways. I am in the good books of all the teachers as well as the principal because I have won many medals, trophies, shields, and certificates for my extraordinary display of abilities in examinations, athletics, debates, and theatre.\n",
            "\n",
            "The good ideas-like love for the motherland, devotion to duty, obedience- towards elders, service to the nation, helping the poor and the needy, nursing the sick, feeding the hungry, etc – are inculcated in the students during their school days.\n",
            "\n",
            "Broadly speaking, school life is not only for learning, reading books or playing, but also a period during which all the good habits are acquired, bad habits are shunned and good conduct, fair play, and sound thinking are developed. Further, the healthy ideas of patriotism and nationalism are imbibed by the students during this period.\n",
            "\n",
            "My school life shall prepare me for a sound and firm foundation upon which the building of my life is going to be erected. My mistakes and failures would guide me in my future life. I do not feel discouraged and disheartened because for me the failures are the stepping stones to success. My school life is a great and valuable experience, the best teacher. I shall always remember my school days fondly.\n",
            "\n",
            "\n",
            "\n",
            "\n",
            "\n",
            "i am a good debater and orator, athlete, and sportsman. my teachers encourage and help me in all possible ways. my school life is a great and valuable experience, the best teacher. i will always remember my school days fondly.\n"
          ],
          "name": "stdout"
        }
      ]
    },
    {
      "cell_type": "code",
      "metadata": {
        "id": "IWmD7bSA7zL0"
      },
      "source": [
        ""
      ],
      "execution_count": null,
      "outputs": []
    }
  ]
}