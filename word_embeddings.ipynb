{
  "nbformat": 4,
  "nbformat_minor": 0,
  "metadata": {
    "colab": {
      "name": "word embeddings",
      "provenance": [],
      "collapsed_sections": [],
      "authorship_tag": "ABX9TyMHTpfb7KSPVe105e/SXzjV",
      "include_colab_link": true
    },
    "kernelspec": {
      "name": "python3",
      "display_name": "Python 3"
    }
  },
  "cells": [
    {
      "cell_type": "markdown",
      "metadata": {
        "id": "view-in-github",
        "colab_type": "text"
      },
      "source": [
        "<a href=\"https://colab.research.google.com/github/sameep114/myproject/blob/master/word_embeddings.ipynb\" target=\"_parent\"><img src=\"https://colab.research.google.com/assets/colab-badge.svg\" alt=\"Open In Colab\"/></a>"
      ]
    },
    {
      "cell_type": "code",
      "metadata": {
        "colab": {
          "base_uri": "https://localhost:8080/"
        },
        "id": "K7RqK6vP0kGc",
        "outputId": "a42c72fd-b0f5-44c0-f96e-cf4e91643a12"
      },
      "source": [
        "from google.colab import drive\n",
        "drive.mount('/content/drive')"
      ],
      "execution_count": 1,
      "outputs": [
        {
          "output_type": "stream",
          "text": [
            "Mounted at /content/drive\n"
          ],
          "name": "stdout"
        }
      ]
    },
    {
      "cell_type": "code",
      "metadata": {
        "colab": {
          "base_uri": "https://localhost:8080/",
          "height": 195
        },
        "id": "4ENy9COC0zbE",
        "outputId": "94bba277-434e-436e-95ae-cbf190f17d9d"
      },
      "source": [
        "from gensim.test.utils import common_texts\n",
        "from gensim.models import Word2Vec\n",
        "model = Word2Vec(sentences=common_texts, vector_size=100, window=5, min_count=1, workers=4)\n"
      ],
      "execution_count": 9,
      "outputs": [
        {
          "output_type": "error",
          "ename": "TypeError",
          "evalue": "ignored",
          "traceback": [
            "\u001b[0;31m---------------------------------------------------------------------------\u001b[0m",
            "\u001b[0;31mTypeError\u001b[0m                                 Traceback (most recent call last)",
            "\u001b[0;32m<ipython-input-9-048a0a1c42e3>\u001b[0m in \u001b[0;36m<module>\u001b[0;34m()\u001b[0m\n\u001b[1;32m      1\u001b[0m \u001b[0;32mfrom\u001b[0m \u001b[0mgensim\u001b[0m\u001b[0;34m.\u001b[0m\u001b[0mtest\u001b[0m\u001b[0;34m.\u001b[0m\u001b[0mutils\u001b[0m \u001b[0;32mimport\u001b[0m \u001b[0mcommon_texts\u001b[0m\u001b[0;34m\u001b[0m\u001b[0;34m\u001b[0m\u001b[0m\n\u001b[1;32m      2\u001b[0m \u001b[0;32mfrom\u001b[0m \u001b[0mgensim\u001b[0m\u001b[0;34m.\u001b[0m\u001b[0mmodels\u001b[0m \u001b[0;32mimport\u001b[0m \u001b[0mWord2Vec\u001b[0m\u001b[0;34m\u001b[0m\u001b[0;34m\u001b[0m\u001b[0m\n\u001b[0;32m----> 3\u001b[0;31m \u001b[0mmodel\u001b[0m \u001b[0;34m=\u001b[0m \u001b[0mWord2Vec\u001b[0m\u001b[0;34m(\u001b[0m\u001b[0msentences\u001b[0m\u001b[0;34m=\u001b[0m\u001b[0mcommon_texts\u001b[0m\u001b[0;34m,\u001b[0m \u001b[0mvector_size\u001b[0m\u001b[0;34m=\u001b[0m\u001b[0;36m100\u001b[0m\u001b[0;34m,\u001b[0m \u001b[0mwindow\u001b[0m\u001b[0;34m=\u001b[0m\u001b[0;36m5\u001b[0m\u001b[0;34m,\u001b[0m \u001b[0mmin_count\u001b[0m\u001b[0;34m=\u001b[0m\u001b[0;36m1\u001b[0m\u001b[0;34m,\u001b[0m \u001b[0mworkers\u001b[0m\u001b[0;34m=\u001b[0m\u001b[0;36m4\u001b[0m\u001b[0;34m)\u001b[0m\u001b[0;34m\u001b[0m\u001b[0;34m\u001b[0m\u001b[0m\n\u001b[0m",
            "\u001b[0;31mTypeError\u001b[0m: __init__() got an unexpected keyword argument 'vector_size'"
          ]
        }
      ]
    },
    {
      "cell_type": "code",
      "metadata": {
        "colab": {
          "base_uri": "https://localhost:8080/",
          "height": 337
        },
        "id": "q9uxO-hX1Qwm",
        "outputId": "27d94deb-93b6-444d-e2e3-d6331c07f91d"
      },
      "source": [
        "model = Word2Vec.load(\"word2vec.model\")\n",
        "model.train([[\"hello\", \"world\"]], total_examples=1, epochs=1)"
      ],
      "execution_count": 8,
      "outputs": [
        {
          "output_type": "error",
          "ename": "FileNotFoundError",
          "evalue": "ignored",
          "traceback": [
            "\u001b[0;31m---------------------------------------------------------------------------\u001b[0m",
            "\u001b[0;31mFileNotFoundError\u001b[0m                         Traceback (most recent call last)",
            "\u001b[0;32m<ipython-input-8-4c98a3c6b0e4>\u001b[0m in \u001b[0;36m<module>\u001b[0;34m()\u001b[0m\n\u001b[0;32m----> 1\u001b[0;31m \u001b[0mmodel\u001b[0m \u001b[0;34m=\u001b[0m \u001b[0mWord2Vec\u001b[0m\u001b[0;34m.\u001b[0m\u001b[0mload\u001b[0m\u001b[0;34m(\u001b[0m\u001b[0;34m\"word2vec.model\"\u001b[0m\u001b[0;34m)\u001b[0m\u001b[0;34m\u001b[0m\u001b[0;34m\u001b[0m\u001b[0m\n\u001b[0m\u001b[1;32m      2\u001b[0m \u001b[0mmodel\u001b[0m\u001b[0;34m.\u001b[0m\u001b[0mtrain\u001b[0m\u001b[0;34m(\u001b[0m\u001b[0;34m[\u001b[0m\u001b[0;34m[\u001b[0m\u001b[0;34m\"hello\"\u001b[0m\u001b[0;34m,\u001b[0m \u001b[0;34m\"world\"\u001b[0m\u001b[0;34m]\u001b[0m\u001b[0;34m]\u001b[0m\u001b[0;34m,\u001b[0m \u001b[0mtotal_examples\u001b[0m\u001b[0;34m=\u001b[0m\u001b[0;36m1\u001b[0m\u001b[0;34m,\u001b[0m \u001b[0mepochs\u001b[0m\u001b[0;34m=\u001b[0m\u001b[0;36m1\u001b[0m\u001b[0;34m)\u001b[0m\u001b[0;34m\u001b[0m\u001b[0;34m\u001b[0m\u001b[0m\n",
            "\u001b[0;32m/usr/local/lib/python3.6/dist-packages/gensim/models/word2vec.py\u001b[0m in \u001b[0;36mload\u001b[0;34m(cls, *args, **kwargs)\u001b[0m\n\u001b[1;32m   1310\u001b[0m         \"\"\"\n\u001b[1;32m   1311\u001b[0m         \u001b[0;32mtry\u001b[0m\u001b[0;34m:\u001b[0m\u001b[0;34m\u001b[0m\u001b[0;34m\u001b[0m\u001b[0m\n\u001b[0;32m-> 1312\u001b[0;31m             \u001b[0mmodel\u001b[0m \u001b[0;34m=\u001b[0m \u001b[0msuper\u001b[0m\u001b[0;34m(\u001b[0m\u001b[0mWord2Vec\u001b[0m\u001b[0;34m,\u001b[0m \u001b[0mcls\u001b[0m\u001b[0;34m)\u001b[0m\u001b[0;34m.\u001b[0m\u001b[0mload\u001b[0m\u001b[0;34m(\u001b[0m\u001b[0;34m*\u001b[0m\u001b[0margs\u001b[0m\u001b[0;34m,\u001b[0m \u001b[0;34m**\u001b[0m\u001b[0mkwargs\u001b[0m\u001b[0;34m)\u001b[0m\u001b[0;34m\u001b[0m\u001b[0;34m\u001b[0m\u001b[0m\n\u001b[0m\u001b[1;32m   1313\u001b[0m \u001b[0;34m\u001b[0m\u001b[0m\n\u001b[1;32m   1314\u001b[0m             \u001b[0;31m# for backward compatibility for `max_final_vocab` feature\u001b[0m\u001b[0;34m\u001b[0m\u001b[0;34m\u001b[0m\u001b[0;34m\u001b[0m\u001b[0m\n",
            "\u001b[0;32m/usr/local/lib/python3.6/dist-packages/gensim/models/base_any2vec.py\u001b[0m in \u001b[0;36mload\u001b[0;34m(cls, *args, **kwargs)\u001b[0m\n\u001b[1;32m   1242\u001b[0m \u001b[0;34m\u001b[0m\u001b[0m\n\u001b[1;32m   1243\u001b[0m         \"\"\"\n\u001b[0;32m-> 1244\u001b[0;31m         \u001b[0mmodel\u001b[0m \u001b[0;34m=\u001b[0m \u001b[0msuper\u001b[0m\u001b[0;34m(\u001b[0m\u001b[0mBaseWordEmbeddingsModel\u001b[0m\u001b[0;34m,\u001b[0m \u001b[0mcls\u001b[0m\u001b[0;34m)\u001b[0m\u001b[0;34m.\u001b[0m\u001b[0mload\u001b[0m\u001b[0;34m(\u001b[0m\u001b[0;34m*\u001b[0m\u001b[0margs\u001b[0m\u001b[0;34m,\u001b[0m \u001b[0;34m**\u001b[0m\u001b[0mkwargs\u001b[0m\u001b[0;34m)\u001b[0m\u001b[0;34m\u001b[0m\u001b[0;34m\u001b[0m\u001b[0m\n\u001b[0m\u001b[1;32m   1245\u001b[0m         \u001b[0;32mif\u001b[0m \u001b[0;32mnot\u001b[0m \u001b[0mhasattr\u001b[0m\u001b[0;34m(\u001b[0m\u001b[0mmodel\u001b[0m\u001b[0;34m,\u001b[0m \u001b[0;34m'ns_exponent'\u001b[0m\u001b[0;34m)\u001b[0m\u001b[0;34m:\u001b[0m\u001b[0;34m\u001b[0m\u001b[0;34m\u001b[0m\u001b[0m\n\u001b[1;32m   1246\u001b[0m             \u001b[0mmodel\u001b[0m\u001b[0;34m.\u001b[0m\u001b[0mns_exponent\u001b[0m \u001b[0;34m=\u001b[0m \u001b[0;36m0.75\u001b[0m\u001b[0;34m\u001b[0m\u001b[0;34m\u001b[0m\u001b[0m\n",
            "\u001b[0;32m/usr/local/lib/python3.6/dist-packages/gensim/models/base_any2vec.py\u001b[0m in \u001b[0;36mload\u001b[0;34m(cls, fname_or_handle, **kwargs)\u001b[0m\n\u001b[1;32m    601\u001b[0m \u001b[0;34m\u001b[0m\u001b[0m\n\u001b[1;32m    602\u001b[0m         \"\"\"\n\u001b[0;32m--> 603\u001b[0;31m         \u001b[0;32mreturn\u001b[0m \u001b[0msuper\u001b[0m\u001b[0;34m(\u001b[0m\u001b[0mBaseAny2VecModel\u001b[0m\u001b[0;34m,\u001b[0m \u001b[0mcls\u001b[0m\u001b[0;34m)\u001b[0m\u001b[0;34m.\u001b[0m\u001b[0mload\u001b[0m\u001b[0;34m(\u001b[0m\u001b[0mfname_or_handle\u001b[0m\u001b[0;34m,\u001b[0m \u001b[0;34m**\u001b[0m\u001b[0mkwargs\u001b[0m\u001b[0;34m)\u001b[0m\u001b[0;34m\u001b[0m\u001b[0;34m\u001b[0m\u001b[0m\n\u001b[0m\u001b[1;32m    604\u001b[0m \u001b[0;34m\u001b[0m\u001b[0m\n\u001b[1;32m    605\u001b[0m     \u001b[0;32mdef\u001b[0m \u001b[0msave\u001b[0m\u001b[0;34m(\u001b[0m\u001b[0mself\u001b[0m\u001b[0;34m,\u001b[0m \u001b[0mfname_or_handle\u001b[0m\u001b[0;34m,\u001b[0m \u001b[0;34m**\u001b[0m\u001b[0mkwargs\u001b[0m\u001b[0;34m)\u001b[0m\u001b[0;34m:\u001b[0m\u001b[0;34m\u001b[0m\u001b[0;34m\u001b[0m\u001b[0m\n",
            "\u001b[0;32m/usr/local/lib/python3.6/dist-packages/gensim/utils.py\u001b[0m in \u001b[0;36mload\u001b[0;34m(cls, fname, mmap)\u001b[0m\n\u001b[1;32m    420\u001b[0m         \u001b[0mcompress\u001b[0m\u001b[0;34m,\u001b[0m \u001b[0msubname\u001b[0m \u001b[0;34m=\u001b[0m \u001b[0mSaveLoad\u001b[0m\u001b[0;34m.\u001b[0m\u001b[0m_adapt_by_suffix\u001b[0m\u001b[0;34m(\u001b[0m\u001b[0mfname\u001b[0m\u001b[0;34m)\u001b[0m\u001b[0;34m\u001b[0m\u001b[0;34m\u001b[0m\u001b[0m\n\u001b[1;32m    421\u001b[0m \u001b[0;34m\u001b[0m\u001b[0m\n\u001b[0;32m--> 422\u001b[0;31m         \u001b[0mobj\u001b[0m \u001b[0;34m=\u001b[0m \u001b[0munpickle\u001b[0m\u001b[0;34m(\u001b[0m\u001b[0mfname\u001b[0m\u001b[0;34m)\u001b[0m\u001b[0;34m\u001b[0m\u001b[0;34m\u001b[0m\u001b[0m\n\u001b[0m\u001b[1;32m    423\u001b[0m         \u001b[0mobj\u001b[0m\u001b[0;34m.\u001b[0m\u001b[0m_load_specials\u001b[0m\u001b[0;34m(\u001b[0m\u001b[0mfname\u001b[0m\u001b[0;34m,\u001b[0m \u001b[0mmmap\u001b[0m\u001b[0;34m,\u001b[0m \u001b[0mcompress\u001b[0m\u001b[0;34m,\u001b[0m \u001b[0msubname\u001b[0m\u001b[0;34m)\u001b[0m\u001b[0;34m\u001b[0m\u001b[0;34m\u001b[0m\u001b[0m\n\u001b[1;32m    424\u001b[0m         \u001b[0mlogger\u001b[0m\u001b[0;34m.\u001b[0m\u001b[0minfo\u001b[0m\u001b[0;34m(\u001b[0m\u001b[0;34m\"loaded %s\"\u001b[0m\u001b[0;34m,\u001b[0m \u001b[0mfname\u001b[0m\u001b[0;34m)\u001b[0m\u001b[0;34m\u001b[0m\u001b[0;34m\u001b[0m\u001b[0m\n",
            "\u001b[0;32m/usr/local/lib/python3.6/dist-packages/gensim/utils.py\u001b[0m in \u001b[0;36munpickle\u001b[0;34m(fname)\u001b[0m\n\u001b[1;32m   1356\u001b[0m \u001b[0;34m\u001b[0m\u001b[0m\n\u001b[1;32m   1357\u001b[0m     \"\"\"\n\u001b[0;32m-> 1358\u001b[0;31m     \u001b[0;32mwith\u001b[0m \u001b[0msmart_open\u001b[0m\u001b[0;34m(\u001b[0m\u001b[0mfname\u001b[0m\u001b[0;34m,\u001b[0m \u001b[0;34m'rb'\u001b[0m\u001b[0;34m)\u001b[0m \u001b[0;32mas\u001b[0m \u001b[0mf\u001b[0m\u001b[0;34m:\u001b[0m\u001b[0;34m\u001b[0m\u001b[0;34m\u001b[0m\u001b[0m\n\u001b[0m\u001b[1;32m   1359\u001b[0m         \u001b[0;31m# Because of loading from S3 load can't be used (missing readline in smart_open)\u001b[0m\u001b[0;34m\u001b[0m\u001b[0;34m\u001b[0m\u001b[0;34m\u001b[0m\u001b[0m\n\u001b[1;32m   1360\u001b[0m         \u001b[0;32mif\u001b[0m \u001b[0msys\u001b[0m\u001b[0;34m.\u001b[0m\u001b[0mversion_info\u001b[0m \u001b[0;34m>\u001b[0m \u001b[0;34m(\u001b[0m\u001b[0;36m3\u001b[0m\u001b[0;34m,\u001b[0m \u001b[0;36m0\u001b[0m\u001b[0;34m)\u001b[0m\u001b[0;34m:\u001b[0m\u001b[0;34m\u001b[0m\u001b[0;34m\u001b[0m\u001b[0m\n",
            "\u001b[0;32m/usr/local/lib/python3.6/dist-packages/smart_open/smart_open_lib.py\u001b[0m in \u001b[0;36msmart_open\u001b[0;34m(***failed resolving arguments***)\u001b[0m\n\u001b[1;32m    420\u001b[0m     \u001b[0mignore_ext\u001b[0m \u001b[0;34m=\u001b[0m \u001b[0mignore_extension\u001b[0m\u001b[0;34m\u001b[0m\u001b[0;34m\u001b[0m\u001b[0m\n\u001b[1;32m    421\u001b[0m     \u001b[0;32mdel\u001b[0m \u001b[0mkwargs\u001b[0m\u001b[0;34m,\u001b[0m \u001b[0murl\u001b[0m\u001b[0;34m,\u001b[0m \u001b[0mmessage\u001b[0m\u001b[0;34m,\u001b[0m \u001b[0mignore_extension\u001b[0m\u001b[0;34m\u001b[0m\u001b[0;34m\u001b[0m\u001b[0m\n\u001b[0;32m--> 422\u001b[0;31m     \u001b[0;32mreturn\u001b[0m \u001b[0mopen\u001b[0m\u001b[0;34m(\u001b[0m\u001b[0;34m**\u001b[0m\u001b[0mlocals\u001b[0m\u001b[0;34m(\u001b[0m\u001b[0;34m)\u001b[0m\u001b[0;34m)\u001b[0m\u001b[0;34m\u001b[0m\u001b[0;34m\u001b[0m\u001b[0m\n\u001b[0m\u001b[1;32m    423\u001b[0m \u001b[0;34m\u001b[0m\u001b[0m\n\u001b[1;32m    424\u001b[0m \u001b[0;34m\u001b[0m\u001b[0m\n",
            "\u001b[0;32m/usr/local/lib/python3.6/dist-packages/smart_open/smart_open_lib.py\u001b[0m in \u001b[0;36mopen\u001b[0;34m(uri, mode, buffering, encoding, errors, newline, closefd, opener, ignore_ext, transport_params)\u001b[0m\n\u001b[1;32m    185\u001b[0m         \u001b[0mencoding\u001b[0m\u001b[0;34m=\u001b[0m\u001b[0mencoding\u001b[0m\u001b[0;34m,\u001b[0m\u001b[0;34m\u001b[0m\u001b[0;34m\u001b[0m\u001b[0m\n\u001b[1;32m    186\u001b[0m         \u001b[0merrors\u001b[0m\u001b[0;34m=\u001b[0m\u001b[0merrors\u001b[0m\u001b[0;34m,\u001b[0m\u001b[0;34m\u001b[0m\u001b[0;34m\u001b[0m\u001b[0m\n\u001b[0;32m--> 187\u001b[0;31m         \u001b[0mnewline\u001b[0m\u001b[0;34m=\u001b[0m\u001b[0mnewline\u001b[0m\u001b[0;34m,\u001b[0m\u001b[0;34m\u001b[0m\u001b[0;34m\u001b[0m\u001b[0m\n\u001b[0m\u001b[1;32m    188\u001b[0m     )\n\u001b[1;32m    189\u001b[0m     \u001b[0;32mif\u001b[0m \u001b[0mfobj\u001b[0m \u001b[0;32mis\u001b[0m \u001b[0;32mnot\u001b[0m \u001b[0;32mNone\u001b[0m\u001b[0;34m:\u001b[0m\u001b[0;34m\u001b[0m\u001b[0;34m\u001b[0m\u001b[0m\n",
            "\u001b[0;32m/usr/local/lib/python3.6/dist-packages/smart_open/smart_open_lib.py\u001b[0m in \u001b[0;36m_shortcut_open\u001b[0;34m(uri, mode, ignore_ext, buffering, encoding, errors, newline)\u001b[0m\n\u001b[1;32m    285\u001b[0m         \u001b[0mopen_kwargs\u001b[0m\u001b[0;34m[\u001b[0m\u001b[0;34m'errors'\u001b[0m\u001b[0;34m]\u001b[0m \u001b[0;34m=\u001b[0m \u001b[0merrors\u001b[0m\u001b[0;34m\u001b[0m\u001b[0;34m\u001b[0m\u001b[0m\n\u001b[1;32m    286\u001b[0m \u001b[0;34m\u001b[0m\u001b[0m\n\u001b[0;32m--> 287\u001b[0;31m     \u001b[0;32mreturn\u001b[0m \u001b[0m_builtin_open\u001b[0m\u001b[0;34m(\u001b[0m\u001b[0mlocal_path\u001b[0m\u001b[0;34m,\u001b[0m \u001b[0mmode\u001b[0m\u001b[0;34m,\u001b[0m \u001b[0mbuffering\u001b[0m\u001b[0;34m=\u001b[0m\u001b[0mbuffering\u001b[0m\u001b[0;34m,\u001b[0m \u001b[0;34m**\u001b[0m\u001b[0mopen_kwargs\u001b[0m\u001b[0;34m)\u001b[0m\u001b[0;34m\u001b[0m\u001b[0;34m\u001b[0m\u001b[0m\n\u001b[0m\u001b[1;32m    288\u001b[0m \u001b[0;34m\u001b[0m\u001b[0m\n\u001b[1;32m    289\u001b[0m \u001b[0;34m\u001b[0m\u001b[0m\n",
            "\u001b[0;31mFileNotFoundError\u001b[0m: [Errno 2] No such file or directory: 'word2vec.model'"
          ]
        }
      ]
    },
    {
      "cell_type": "code",
      "metadata": {
        "colab": {
          "base_uri": "https://localhost:8080/",
          "height": 534
        },
        "id": "roaZN5cF1dvE",
        "outputId": "c52585d6-57e9-45ff-ac7f-97ab2a1b84ed"
      },
      "source": [
        "\n",
        "import pandas as pd\n",
        "reviews = pd.read_csv(\"/content/drive/MyDrive/Datasets/compiled.txt\",delimiter='\\n\\n')\n",
        "reviews.head()"
      ],
      "execution_count": 11,
      "outputs": [
        {
          "output_type": "stream",
          "text": [
            "/usr/local/lib/python3.6/dist-packages/ipykernel_launcher.py:3: ParserWarning: Falling back to the 'python' engine because the 'c' engine does not support regex separators (separators > 1 char and different from '\\s+' are interpreted as regex); you can avoid this warning by specifying engine='python'.\n",
            "  This is separate from the ipykernel package so we can avoid doing imports until\n"
          ],
          "name": "stderr"
        },
        {
          "output_type": "execute_result",
          "data": {
            "text/html": [
              "<div>\n",
              "<style scoped>\n",
              "    .dataframe tbody tr th:only-of-type {\n",
              "        vertical-align: middle;\n",
              "    }\n",
              "\n",
              "    .dataframe tbody tr th {\n",
              "        vertical-align: top;\n",
              "    }\n",
              "\n",
              "    .dataframe thead th {\n",
              "        text-align: right;\n",
              "    }\n",
              "</style>\n",
              "<table border=\"1\" class=\"dataframe\">\n",
              "  <thead>\n",
              "    <tr style=\"text-align: right;\">\n",
              "      <th></th>\n",
              "      <th>&lt;p&gt; साँवा अक्षर (कखरा)मा बाह्रखरी (मात्रा) मिल्नाले भाषा समृद्ध र अर्थपूर्ण बनेजस्तै देशको समाजिक, राजनीतिक, आर्थिक र अन्य क्षेत्रको स्थूल स्वरूपलाई विवेचनात्मक दृष्टिबाट अथ्र्याइएमा मात्र जनताले देशको गति र शासनको नियत बुझ्ने विश्वास लिएर त्यसको भित्री एवं समग्र स्वरूप जनता समक्ष प्रस्तुत गर्ने जमर्कोमा यो अनलाइन खबर पत्रिका बाह्रखरी उपस्थित भएको छ । हामी आफूलाई उदार लोकतन्त्र र उदार आर्थिक प्रणालीका पक्षधर हौँ भन्न हिचकिचाउँदैनौ भने गरिब र पिछडिएका जनताका पक्षमा सरकारको सशक्त उपस्थिती र लोकोपकारी कार्यकारीको महत्वलाई पनि अस्वीकार गर्दैनौ । जनताका नैसर्गिक अधिकार रक्षाका लागि सत्य र तथ्यमा आधारित पत्रकारिताका क्रममा कसैसँग पनि सम्झौता गर्ने छैनौ । नेपालको वर्तमान राजनीतिक परिवृत्तमा सबैले आफूलाई लोकतान्त्रिक शक्तिका रूपमा परिचित गराउने तर विचार, व्यवहार र कार्यशैलीमा बहुलता स्विकार गर्न नसक्ने विडम्बना देखिएको छ । कतिपय अवस्थामा लोकतान्त्रिक राजनीतिका पक्षधर भन्नेबित्तिकै निश्चित राजनीतिक दलसँग आबद्ध भनेर ठान्ने सोच कायमै छ । तर सबै राजनीतिक दल, हरेक व्यक्ति र समाजका हरेक पक्षलाई गुण र दोषका आधारमा समर्थन वा आलोचना वा दुवै समानान्तररूपमा अघि बढाउनु बाह्रखरी खबर पत्रिकाको विशेषता हुनेछ । जनताको जीवनको अधिकार, सम्पत्तिको अधिकार, विचार र अभिव्यक्ति स्वतन्त्रताकोअधिकार रक्षाका मूल्यमा कुनै पनि शक्तिसँग कहिल्यै सम्झौता नगर्ने प्रतिबद्धताका साथ जनसञ्चारको आधुनिक माध्यम अनलाइन पत्रकारितामार्फत् बाह्रखरी यहाँहरू समक्ष उपस्थित भएको छ । जनजीवनका दैनिक समस्या हाम्रा प्राथमिक चासोका विषय हुन् । खानेपानी, बिजुली, इन्धन, यातायातजस्ता जनताका आधारभूत समस्याभन्दा अरू राष्ट्रिय आवश्यकता ठूला वा महत्वपूर्ण हुँदैनन् र मानिनु हुँदैन भन्ने हाम्रो मान्यता हो । शिक्षा, स्वास्थ्य, खानेपानी, बाटोघाटो र सञ्चारको सुविधाबाट जनसाधारण विमुख हुनुहुँदैन । बाह्रखरीले कुनै पनि सरकारको मूल्यांकन जनताले पाएको सेवाका आधारमा गर्नेछ । भ्रष्टाचार, कालोबजारी, करछली र जनतालाई आर्थिक, सामाजिक तथा शारीरिक शोषण गर्ने कुनै पनि समूह, व्यक्ति वा प्रवृत्तिविरूद्ध समाजलाई जागरुक बनाउने एउटा अभियानकै रूपमा बाह्रखरीलाई यसका शुभचिन्तकले मान्ने र माया गर्ने विश्वास हामीले लिएका छौँ नेपालको सिमानाभित्र बसोबास गर्ने र संसारभर आफूलाई नेपाली भनेर चिनाउने नेपाली मन र नेपालीपनको सुवासको सुरक्षा गर्नुलाई हामी आफ्नो महत्वपूर्ण कर्तव्य ठान्नेछौँ । देश र विदेशमा रहेका नेपाली र नेपालका शुभचिन्तकलाई नेपाल र विश्वमा भएका घटनाक्रमको ताजा जानकारी दिलाउनु र समाजमा सकारात्मक परिवर्तनका लागि विचार र विवेचनाको संवाहक हुनुमा बाह्रखरीको दैनिक क्रियाकलाप हुनेछ । हामी कस्तो र कुन प्रकारको पत्रकारितामा विश्वास गर्छ भन्ने हाम्रा मूल्य र मान्यता पारदर्शी बनाउने उद्देश्यले हामीले बाह्रखरीको आचार संहिता पनि सार्वजनिक गरेका छौँ । हामी पत्रकार र पत्रकारिताका मूल्य र मान्यतासँग कुनैपनि अवस्थामा सम्झौता नगर्ने र स्वस्थ समाचार, मनोरञ्जन, साहित्य, कला, खेलकुद र जीवनका विविध आयामका विभिन्न रंग समेट्दै पाठकका इलेक्ट्रोनिक काँचका पर्दामा इन्द्रधनुष उतार्ने प्रयासमा सदैव लागि रहने प्रण गर्छौँ । &lt;/p&gt;</th>\n",
              "    </tr>\n",
              "  </thead>\n",
              "  <tbody>\n",
              "    <tr>\n",
              "      <th>0</th>\n",
              "      <td>&lt;archive_file filename=\"content/176810/2019-03...</td>\n",
              "    </tr>\n",
              "    <tr>\n",
              "      <th>1</th>\n",
              "      <td>&lt;p&gt; पोखरा । मर्नेहरुले केही पनि लाँदैनन् भनिन्...</td>\n",
              "    </tr>\n",
              "    <tr>\n",
              "      <th>2</th>\n",
              "      <td>&lt;p&gt; मर्नेहरु त बस रित्तो हात, एकै थोपा आँसु नझ...</td>\n",
              "    </tr>\n",
              "    <tr>\n",
              "      <th>3</th>\n",
              "      <td>&lt;p&gt; अहिले यस्तै हालमा छन्, नागरिक उडड्यन, पर्य...</td>\n",
              "    </tr>\n",
              "    <tr>\n",
              "      <th>4</th>\n",
              "      <td>&lt;p&gt; मनमा पीडा राखेर अनुहारमा कृतिम हाँसो छर्दै...</td>\n",
              "    </tr>\n",
              "  </tbody>\n",
              "</table>\n",
              "</div>"
            ],
            "text/plain": [
              "  <p> साँवा अक्षर (कखरा)मा बाह्रखरी (मात्रा) मिल्नाले भाषा समृद्ध र अर्थपूर्ण बनेजस्तै देशको समाजिक, राजनीतिक, आर्थिक र अन्य क्षेत्रको स्थूल स्वरूपलाई विवेचनात्मक दृष्टिबाट अथ्र्याइएमा मात्र जनताले देशको गति र शासनको नियत बुझ्ने विश्वास लिएर त्यसको भित्री एवं समग्र स्वरूप जनता समक्ष प्रस्तुत गर्ने जमर्कोमा यो अनलाइन खबर पत्रिका बाह्रखरी उपस्थित भएको छ । हामी आफूलाई उदार लोकतन्त्र र उदार आर्थिक प्रणालीका पक्षधर हौँ भन्न हिचकिचाउँदैनौ भने गरिब र पिछडिएका जनताका पक्षमा सरकारको सशक्त उपस्थिती र लोकोपकारी कार्यकारीको महत्वलाई पनि अस्वीकार गर्दैनौ । जनताका नैसर्गिक अधिकार रक्षाका लागि सत्य र तथ्यमा आधारित पत्रकारिताका क्रममा कसैसँग पनि सम्झौता गर्ने छैनौ । नेपालको वर्तमान राजनीतिक परिवृत्तमा सबैले आफूलाई लोकतान्त्रिक शक्तिका रूपमा परिचित गराउने तर विचार, व्यवहार र कार्यशैलीमा बहुलता स्विकार गर्न नसक्ने विडम्बना देखिएको छ । कतिपय अवस्थामा लोकतान्त्रिक राजनीतिका पक्षधर भन्नेबित्तिकै निश्चित राजनीतिक दलसँग आबद्ध भनेर ठान्ने सोच कायमै छ । तर सबै राजनीतिक दल, हरेक व्यक्ति र समाजका हरेक पक्षलाई गुण र दोषका आधारमा समर्थन वा आलोचना वा दुवै समानान्तररूपमा अघि बढाउनु बाह्रखरी खबर पत्रिकाको विशेषता हुनेछ । जनताको जीवनको अधिकार, सम्पत्तिको अधिकार, विचार र अभिव्यक्ति स्वतन्त्रताकोअधिकार रक्षाका मूल्यमा कुनै पनि शक्तिसँग कहिल्यै सम्झौता नगर्ने प्रतिबद्धताका साथ जनसञ्चारको आधुनिक माध्यम अनलाइन पत्रकारितामार्फत् बाह्रखरी यहाँहरू समक्ष उपस्थित भएको छ । जनजीवनका दैनिक समस्या हाम्रा प्राथमिक चासोका विषय हुन् । खानेपानी, बिजुली, इन्धन, यातायातजस्ता जनताका आधारभूत समस्याभन्दा अरू राष्ट्रिय आवश्यकता ठूला वा महत्वपूर्ण हुँदैनन् र मानिनु हुँदैन भन्ने हाम्रो मान्यता हो । शिक्षा, स्वास्थ्य, खानेपानी, बाटोघाटो र सञ्चारको सुविधाबाट जनसाधारण विमुख हुनुहुँदैन । बाह्रखरीले कुनै पनि सरकारको मूल्यांकन जनताले पाएको सेवाका आधारमा गर्नेछ । भ्रष्टाचार, कालोबजारी, करछली र जनतालाई आर्थिक, सामाजिक तथा शारीरिक शोषण गर्ने कुनै पनि समूह, व्यक्ति वा प्रवृत्तिविरूद्ध समाजलाई जागरुक बनाउने एउटा अभियानकै रूपमा बाह्रखरीलाई यसका शुभचिन्तकले मान्ने र माया गर्ने विश्वास हामीले लिएका छौँ नेपालको सिमानाभित्र बसोबास गर्ने र संसारभर आफूलाई नेपाली भनेर चिनाउने नेपाली मन र नेपालीपनको सुवासको सुरक्षा गर्नुलाई हामी आफ्नो महत्वपूर्ण कर्तव्य ठान्नेछौँ । देश र विदेशमा रहेका नेपाली र नेपालका शुभचिन्तकलाई नेपाल र विश्वमा भएका घटनाक्रमको ताजा जानकारी दिलाउनु र समाजमा सकारात्मक परिवर्तनका लागि विचार र विवेचनाको संवाहक हुनुमा बाह्रखरीको दैनिक क्रियाकलाप हुनेछ । हामी कस्तो र कुन प्रकारको पत्रकारितामा विश्वास गर्छ भन्ने हाम्रा मूल्य र मान्यता पारदर्शी बनाउने उद्देश्यले हामीले बाह्रखरीको आचार संहिता पनि सार्वजनिक गरेका छौँ । हामी पत्रकार र पत्रकारिताका मूल्य र मान्यतासँग कुनैपनि अवस्थामा सम्झौता नगर्ने र स्वस्थ समाचार, मनोरञ्जन, साहित्य, कला, खेलकुद र जीवनका विविध आयामका विभिन्न रंग समेट्दै पाठकका इलेक्ट्रोनिक काँचका पर्दामा इन्द्रधनुष उतार्ने प्रयासमा सदैव लागि रहने प्रण गर्छौँ । </p>\n",
              "0  <archive_file filename=\"content/176810/2019-03...                                                                                                                                                                                                                                                                                                                                                                                                                                                                                                                                                                                                                                                                                                                                                                                                                                                                                                                                                                                                                                                                                                                                                                                                                                                                                                                                                                                                                                                                                                                                                                                                                                                                                                                                                                                                                                                                                                                                                                                                                                                                                                                                                                                                                                                                                                                                                                                                                                                                                                                                                                                                                                                                                                                                                                                                                    \n",
              "1  <p> पोखरा । मर्नेहरुले केही पनि लाँदैनन् भनिन्...                                                                                                                                                                                                                                                                                                                                                                                                                                                                                                                                                                                                                                                                                                                                                                                                                                                                                                                                                                                                                                                                                                                                                                                                                                                                                                                                                                                                                                                                                                                                                                                                                                                                                                                                                                                                                                                                                                                                                                                                                                                                                                                                                                                                                                                                                                                                                                                                                                                                                                                                                                                                                                                                                                                                                                                                                    \n",
              "2  <p> मर्नेहरु त बस रित्तो हात, एकै थोपा आँसु नझ...                                                                                                                                                                                                                                                                                                                                                                                                                                                                                                                                                                                                                                                                                                                                                                                                                                                                                                                                                                                                                                                                                                                                                                                                                                                                                                                                                                                                                                                                                                                                                                                                                                                                                                                                                                                                                                                                                                                                                                                                                                                                                                                                                                                                                                                                                                                                                                                                                                                                                                                                                                                                                                                                                                                                                                                                                    \n",
              "3  <p> अहिले यस्तै हालमा छन्, नागरिक उडड्यन, पर्य...                                                                                                                                                                                                                                                                                                                                                                                                                                                                                                                                                                                                                                                                                                                                                                                                                                                                                                                                                                                                                                                                                                                                                                                                                                                                                                                                                                                                                                                                                                                                                                                                                                                                                                                                                                                                                                                                                                                                                                                                                                                                                                                                                                                                                                                                                                                                                                                                                                                                                                                                                                                                                                                                                                                                                                                                                    \n",
              "4  <p> मनमा पीडा राखेर अनुहारमा कृतिम हाँसो छर्दै...                                                                                                                                                                                                                                                                                                                                                                                                                                                                                                                                                                                                                                                                                                                                                                                                                                                                                                                                                                                                                                                                                                                                                                                                                                                                                                                                                                                                                                                                                                                                                                                                                                                                                                                                                                                                                                                                                                                                                                                                                                                                                                                                                                                                                                                                                                                                                                                                                                                                                                                                                                                                                                                                                                                                                                                                                    "
            ]
          },
          "metadata": {
            "tags": []
          },
          "execution_count": 11
        }
      ]
    },
    {
      "cell_type": "code",
      "metadata": {
        "colab": {
          "base_uri": "https://localhost:8080/"
        },
        "id": "qbdXJmco2vLw",
        "outputId": "d724df2c-f5c2-447d-ac7f-c0a0ca1298a4"
      },
      "source": [
        "documents=reviews\n",
        "print(len(reviews))"
      ],
      "execution_count": 13,
      "outputs": [
        {
          "output_type": "stream",
          "text": [
            "3225256\n"
          ],
          "name": "stdout"
        }
      ]
    },
    {
      "cell_type": "code",
      "metadata": {
        "id": "3RdDWrbi3eYR"
      },
      "source": [
        "\n",
        "from __future__ import print_function\n",
        "\n",
        "\n",
        "import json\n",
        "import os\n",
        "import pandas\n",
        "import io\n",
        "import sys\n",
        "import re\n",
        "\n",
        "\n",
        "class ProgressBar(object):\n",
        "    DEFAULT = 'Progress: %(bar)s %(percent)3d%%'\n",
        "    FULL = '%(bar)s %(current)d/%(total)d (%(percent)3d%%) %(remaining)d to go'\n",
        "\n",
        "    def __init__(self, total, width=40, fmt=DEFAULT, symbol='=',\n",
        "                 output=sys.stderr):\n",
        "        assert len(symbol) == 1\n",
        "\n",
        "        self.total = total\n",
        "        self.width = width\n",
        "        self.symbol = symbol\n",
        "        self.output = output\n",
        "        self.fmt = re.sub(r'(?P<name>%\\(.+?\\))d',\n",
        "            r'\\g<name>%dd' % len(str(total)), fmt)\n",
        "\n",
        "        self.current = 0\n",
        "\n",
        "    def __call__(self):\n",
        "        percent = self.current / float(self.total)\n",
        "        size = int(self.width * percent)\n",
        "        remaining = self.total - self.current\n",
        "        bar = '[' + self.symbol * size + ' ' * (self.width - size) + ']'\n",
        "\n",
        "        args = {\n",
        "            'total': self.total,\n",
        "            'bar': bar,\n",
        "            'current': self.current,\n",
        "            'percent': percent * 100,\n",
        "            'remaining': remaining\n",
        "        }\n",
        "        print('\\r' + self.fmt % args, file=self.output, end='')\n",
        "\n",
        "    def done(self):\n",
        "        self.current = self.total\n",
        "        self()\n",
        "        print('', file=self.output)"
      ],
      "execution_count": 15,
      "outputs": []
    },
    {
      "cell_type": "code",
      "metadata": {
        "id": "gQR05_EM31Hr"
      },
      "source": [
        "pickle_path = \"/content/drive/MyDrive/Datasets\" + \"pickles/\"\n",
        "\n",
        "import pickle\n",
        "\n",
        "def save(obj , filename):\n",
        "  print(\"saving {} ..\".format(filename))\n",
        "  with open(filename, 'wb') as handle:\n",
        "      pickle.dump(obj, handle, protocol=pickle.HIGHEST_PROTOCOL)\n",
        "      \n",
        "def load(filename):\n",
        "  print(\"loading {} ..\".format(filename))\n",
        "  with open(filename, 'rb') as handle:\n",
        "    return pickle.load(handle)"
      ],
      "execution_count": 17,
      "outputs": []
    },
    {
      "cell_type": "code",
      "metadata": {
        "colab": {
          "base_uri": "https://localhost:8080/"
        },
        "id": "pjuTOpQI2jxm",
        "outputId": "707024d5-d342-41da-cfdf-f9a33958578f"
      },
      "source": [
        "clean_documents = []\n",
        "print(\"loading documents...\")\n",
        "progress = ProgressBar(len(documents), fmt=ProgressBar.FULL)\n",
        "for doc in documents:\n",
        "  clean_documents.append(str(doc).split())\n",
        "  progress.current += 1\n",
        "  progress()\n",
        "progress.done()\n",
        "save(clean_documents , \"clean_documents_ketab.pkl\")\n",
        "\n",
        "\n",
        "# clean_summary = []\n",
        "# print(\"loading summaries...\")\n",
        "# progress = ProgressBar(len(summary), fmt=ProgressBar.FULL)\n",
        "# for doc in summary:\n",
        "#   clean_summary.append(str(doc).split())\n",
        "#   progress.current += 1\n",
        "#   progress()\n",
        "# progress.done()\n",
        "# save(clean_summary , \"clean_summary_ketab.pkl\")"
      ],
      "execution_count": 19,
      "outputs": [
        {
          "output_type": "stream",
          "text": [
            "loading documents...\n",
            "saving clean_documents_ketab.pkl ..\n"
          ],
          "name": "stdout"
        },
        {
          "output_type": "stream",
          "text": [
            "\r[                                        ]       1/3225256 (  0%) 3225255 to go\r[========================================] 3225256/3225256 (100%)       0 to go\n"
          ],
          "name": "stderr"
        }
      ]
    },
    {
      "cell_type": "code",
      "metadata": {
        "colab": {
          "base_uri": "https://localhost:8080/"
        },
        "id": "B_8dD8FV3SN4",
        "outputId": "5a012efc-38b6-4fa2-c729-a5ace3a00370"
      },
      "source": [
        "print(clean_documents[0])"
      ],
      "execution_count": 20,
      "outputs": [
        {
          "output_type": "stream",
          "text": [
            "['<p>', 'साँवा', 'अक्षर', '(कखरा)मा', 'बाह्रखरी', '(मात्रा)', 'मिल्नाले', 'भाषा', 'समृद्ध', 'र', 'अर्थपूर्ण', 'बनेजस्तै', 'देशको', 'समाजिक,', 'राजनीतिक,', 'आर्थिक', 'र', 'अन्य', 'क्षेत्रको', 'स्थूल', 'स्वरूपलाई', 'विवेचनात्मक', 'दृष्टिबाट', 'अथ्र्याइएमा', 'मात्र', 'जनताले', 'देशको', 'गति', 'र', 'शासनको', 'नियत', 'बुझ्ने', 'विश्वास', 'लिएर', 'त्यसको', 'भित्री', 'एवं', 'समग्र', 'स्वरूप', 'जनता', 'समक्ष', 'प्रस्तुत', 'गर्ने', 'जमर्कोमा', 'यो', 'अनलाइन', 'खबर', 'पत्रिका', 'बाह्रखरी', 'उपस्थित', 'भएको', 'छ', '।', 'हामी', 'आफूलाई', 'उदार', 'लोकतन्त्र', 'र', 'उदार', 'आर्थिक', 'प्रणालीका', 'पक्षधर', 'हौँ', 'भन्न', 'हिचकिचाउँदैनौ', 'भने', 'गरिब', 'र', 'पिछडिएका', 'जनताका', 'पक्षमा', 'सरकारको', 'सशक्त', 'उपस्थिती', 'र', 'लोकोपकारी', 'कार्यकारीको', 'महत्वलाई', 'पनि', 'अस्वीकार', 'गर्दैनौ', '।', 'जनताका', 'नैसर्गिक', 'अधिकार', 'रक्षाका', 'लागि', 'सत्य', 'र', 'तथ्यमा', 'आधारित', 'पत्रकारिताका', 'क्रममा', 'कसैसँग', 'पनि', 'सम्झौता', 'गर्ने', 'छैनौ', '।', 'नेपालको', 'वर्तमान', 'राजनीतिक', 'परिवृत्तमा', 'सबैले', 'आफूलाई', 'लोकतान्त्रिक', 'शक्तिका', 'रूपमा', 'परिचित', 'गराउने', 'तर', 'विचार,', 'व्यवहार', 'र', 'कार्यशैलीमा', 'बहुलता', 'स्विकार', 'गर्न', 'नसक्ने', 'विडम्बना', 'देखिएको', 'छ', '।', 'कतिपय', 'अवस्थामा', 'लोकतान्त्रिक', 'राजनीतिका', 'पक्षधर', 'भन्नेबित्तिकै', 'निश्चित', 'राजनीतिक', 'दलसँग', 'आबद्ध', 'भनेर', 'ठान्ने', 'सोच', 'कायमै', 'छ', '।', 'तर', 'सबै', 'राजनीतिक', 'दल,', 'हरेक', 'व्यक्ति', 'र', 'समाजका', 'हरेक', 'पक्षलाई', 'गुण', 'र', 'दोषका', 'आधारमा', 'समर्थन', 'वा', 'आलोचना', 'वा', 'दुवै', 'समानान्तररूपमा', 'अघि', 'बढाउनु', 'बाह्रखरी', 'खबर', 'पत्रिकाको', 'विशेषता', 'हुनेछ', '।', 'जनताको', 'जीवनको', 'अधिकार,', 'सम्पत्तिको', 'अधिकार,', 'विचार', 'र', 'अभिव्यक्ति', 'स्वतन्त्रताकोअधिकार', 'रक्षाका', 'मूल्यमा', 'कुनै', 'पनि', 'शक्तिसँग', 'कहिल्यै', 'सम्झौता', 'नगर्ने', 'प्रतिबद्धताका', 'साथ', 'जनसञ्चारको', 'आधुनिक', 'माध्यम', 'अनलाइन', 'पत्रकारितामार्फत्', 'बाह्रखरी', 'यहाँहरू', 'समक्ष', 'उपस्थित', 'भएको', 'छ', '।', 'जनजीवनका', 'दैनिक', 'समस्या', 'हाम्रा', 'प्राथमिक', 'चासोका', 'विषय', 'हुन्', '।', 'खानेपानी,', 'बिजुली,', 'इन्धन,', 'यातायातजस्ता', 'जनताका', 'आधारभूत', 'समस्याभन्दा', 'अरू', 'राष्ट्रिय', 'आवश्यकता', 'ठूला', 'वा', 'महत्वपूर्ण', 'हुँदैनन्', 'र', 'मानिनु', 'हुँदैन', 'भन्ने', 'हाम्रो', 'मान्यता', 'हो', '।', 'शिक्षा,', 'स्वास्थ्य,', 'खानेपानी,', 'बाटोघाटो', 'र', 'सञ्चारको', 'सुविधाबाट', 'जनसाधारण', 'विमुख', 'हुनुहुँदैन', '।', 'बाह्रखरीले', 'कुनै', 'पनि', 'सरकारको', 'मूल्यांकन', 'जनताले', 'पाएको', 'सेवाका', 'आधारमा', 'गर्नेछ', '।', 'भ्रष्टाचार,', 'कालोबजारी,', 'करछली', 'र', 'जनतालाई', 'आर्थिक,', 'सामाजिक', 'तथा', 'शारीरिक', 'शोषण', 'गर्ने', 'कुनै', 'पनि', 'समूह,', 'व्यक्ति', 'वा', 'प्रवृत्तिविरूद्ध', 'समाजलाई', 'जागरुक', 'बनाउने', 'एउटा', 'अभियानकै', 'रूपमा', 'बाह्रखरीलाई', 'यसका', 'शुभचिन्तकले', 'मान्ने', 'र', 'माया', 'गर्ने', 'विश्वास', 'हामीले', 'लिएका', 'छौँ', 'नेपालको', 'सिमानाभित्र', 'बसोबास', 'गर्ने', 'र', 'संसारभर', 'आफूलाई', 'नेपाली', 'भनेर', 'चिनाउने', 'नेपाली', 'मन', 'र', 'नेपालीपनको', 'सुवासको', 'सुरक्षा', 'गर्नुलाई', 'हामी', 'आफ्नो', 'महत्वपूर्ण', 'कर्तव्य', 'ठान्नेछौँ', '।', 'देश', 'र', 'विदेशमा', 'रहेका', 'नेपाली', 'र', 'नेपालका', 'शुभचिन्तकलाई', 'नेपाल', 'र', 'विश्वमा', 'भएका', 'घटनाक्रमको', 'ताजा', 'जानकारी', 'दिलाउनु', 'र', 'समाजमा', 'सकारात्मक', 'परिवर्तनका', 'लागि', 'विचार', 'र', 'विवेचनाको', 'संवाहक', 'हुनुमा', 'बाह्रखरीको', 'दैनिक', 'क्रियाकलाप', 'हुनेछ', '।', 'हामी', 'कस्तो', 'र', 'कुन', 'प्रकारको', 'पत्रकारितामा', 'विश्वास', 'गर्छ', 'भन्ने', 'हाम्रा', 'मूल्य', 'र', 'मान्यता', 'पारदर्शी', 'बनाउने', 'उद्देश्यले', 'हामीले', 'बाह्रखरीको', 'आचार', 'संहिता', 'पनि', 'सार्वजनिक', 'गरेका', 'छौँ', '।', 'हामी', 'पत्रकार', 'र', 'पत्रकारिताका', 'मूल्य', 'र', 'मान्यतासँग', 'कुनैपनि', 'अवस्थामा', 'सम्झौता', 'नगर्ने', 'र', 'स्वस्थ', 'समाचार,', 'मनोरञ्जन,', 'साहित्य,', 'कला,', 'खेलकुद', 'र', 'जीवनका', 'विविध', 'आयामका', 'विभिन्न', 'रंग', 'समेट्दै', 'पाठकका', 'इलेक्ट्रोनिक', 'काँचका', 'पर्दामा', 'इन्द्रधनुष', 'उतार्ने', 'प्रयासमा', 'सदैव', 'लागि', 'रहने', 'प्रण', 'गर्छौँ', '।', '</p>']\n"
          ],
          "name": "stdout"
        }
      ]
    },
    {
      "cell_type": "code",
      "metadata": {
        "id": "mWl4xECM4Mb2"
      },
      "source": [
        "import gensim\n",
        "model_nepali_vec = gensim.models.Word2Vec(\n",
        "        clean_documents,\n",
        "        size=150,\n",
        "        window=10,\n",
        "        min_count=2,\n",
        "        workers=10)\n",
        "model_nepali_vec.train(clean_documents, total_examples=len(clean_documents), epochs=10)\n",
        "model_nepali_vec.wv.save(default_path +\"model_nepali.model\")"
      ],
      "execution_count": 23,
      "outputs": []
    },
    {
      "cell_type": "code",
      "metadata": {
        "id": "ZvGsd07U48Hs"
      },
      "source": [
        "default_path=\"/content/drive/MyDrive/Datasets\""
      ],
      "execution_count": 21,
      "outputs": []
    },
    {
      "cell_type": "code",
      "metadata": {
        "id": "vfYMtW835B8b"
      },
      "source": [
        "from gensim.models import KeyedVectors\n",
        "wv = KeyedVectors.load(default_path +\"model_nepali.model\", mmap='r')"
      ],
      "execution_count": 24,
      "outputs": []
    },
    {
      "cell_type": "code",
      "metadata": {
        "colab": {
          "base_uri": "https://localhost:8080/"
        },
        "id": "Orwpbj7r5V_U",
        "outputId": "a2892531-5e82-4b94-d8df-055a2c19e7ce"
      },
      "source": [
        "wv.most_similar(positive = 'छ')"
      ],
      "execution_count": 27,
      "outputs": [
        {
          "output_type": "stream",
          "text": [
            "/usr/local/lib/python3.6/dist-packages/gensim/matutils.py:737: FutureWarning: Conversion of the second argument of issubdtype from `int` to `np.signedinteger` is deprecated. In future, it will be treated as `np.int64 == np.dtype(int).type`.\n",
            "  if np.issubdtype(vec.dtype, np.int):\n"
          ],
          "name": "stderr"
        },
        {
          "output_type": "execute_result",
          "data": {
            "text/plain": [
              "[('नगर्ने', 0.2185090035200119),\n",
              " ('छौँ', 0.17414087057113647),\n",
              " ('हुनेछ', 0.17384065687656403),\n",
              " ('र', 0.16623196005821228),\n",
              " ('हाम्रा', 0.16249684989452362),\n",
              " ('राजनीतिक', 0.15903352200984955),\n",
              " ('महत्वपूर्ण', 0.15136782824993134),\n",
              " ('सरकारको', 0.1378764808177948),\n",
              " ('विचार', 0.13685421645641327),\n",
              " ('रूपमा', 0.1351543515920639)]"
            ]
          },
          "metadata": {
            "tags": []
          },
          "execution_count": 27
        }
      ]
    },
    {
      "cell_type": "code",
      "metadata": {
        "colab": {
          "base_uri": "https://localhost:8080/"
        },
        "id": "1Jef6h6R5aKU",
        "outputId": "87c21cb1-affc-4052-a9b1-05d29d7ba185"
      },
      "source": [
        "wv.most_similar(positive='समक्ष')"
      ],
      "execution_count": 29,
      "outputs": [
        {
          "output_type": "stream",
          "text": [
            "/usr/local/lib/python3.6/dist-packages/gensim/matutils.py:737: FutureWarning: Conversion of the second argument of issubdtype from `int` to `np.signedinteger` is deprecated. In future, it will be treated as `np.int64 == np.dtype(int).type`.\n",
            "  if np.issubdtype(vec.dtype, np.int):\n"
          ],
          "name": "stderr"
        },
        {
          "output_type": "execute_result",
          "data": {
            "text/plain": [
              "[('खानेपानी,', 0.2028675526380539),\n",
              " ('वा', 0.15287765860557556),\n",
              " ('खबर', 0.14315909147262573),\n",
              " ('देशको', 0.1242644265294075),\n",
              " ('र', 0.11963767558336258),\n",
              " ('विश्वास', 0.11514217406511307),\n",
              " ('रक्षाका', 0.10629922151565552),\n",
              " ('नेपाली', 0.10624384135007858),\n",
              " ('हरेक', 0.10211634635925293),\n",
              " ('सम्झौता', 0.09987235069274902)]"
            ]
          },
          "metadata": {
            "tags": []
          },
          "execution_count": 29
        }
      ]
    },
    {
      "cell_type": "code",
      "metadata": {
        "colab": {
          "base_uri": "https://localhost:8080/",
          "height": 320
        },
        "id": "ypOaqEm_6jNK",
        "outputId": "5539356a-c7fe-4b04-ce2c-51fd565484f9"
      },
      "source": [
        "from gensim.models import KeyedVectors\n",
        "wv = KeyedVectors.load('/content/drive/MyDrive/Datasets/nepali_embeddings_word2vec.txt',mmap='r')"
      ],
      "execution_count": 35,
      "outputs": [
        {
          "output_type": "error",
          "ename": "UnpicklingError",
          "evalue": "ignored",
          "traceback": [
            "\u001b[0;31m---------------------------------------------------------------------------\u001b[0m",
            "\u001b[0;31mUnpicklingError\u001b[0m                           Traceback (most recent call last)",
            "\u001b[0;32m<ipython-input-35-daac5e48a87e>\u001b[0m in \u001b[0;36m<module>\u001b[0;34m()\u001b[0m\n\u001b[1;32m      1\u001b[0m \u001b[0;32mfrom\u001b[0m \u001b[0mgensim\u001b[0m\u001b[0;34m.\u001b[0m\u001b[0mmodels\u001b[0m \u001b[0;32mimport\u001b[0m \u001b[0mKeyedVectors\u001b[0m\u001b[0;34m\u001b[0m\u001b[0;34m\u001b[0m\u001b[0m\n\u001b[0;32m----> 2\u001b[0;31m \u001b[0mwv\u001b[0m \u001b[0;34m=\u001b[0m \u001b[0mKeyedVectors\u001b[0m\u001b[0;34m.\u001b[0m\u001b[0mload\u001b[0m\u001b[0;34m(\u001b[0m\u001b[0;34m'/content/drive/MyDrive/Datasets/nepali_embeddings_word2vec.txt'\u001b[0m\u001b[0;34m,\u001b[0m\u001b[0mmmap\u001b[0m\u001b[0;34m=\u001b[0m\u001b[0;34m'r'\u001b[0m\u001b[0;34m)\u001b[0m\u001b[0;34m\u001b[0m\u001b[0;34m\u001b[0m\u001b[0m\n\u001b[0m",
            "\u001b[0;32m/usr/local/lib/python3.6/dist-packages/gensim/models/keyedvectors.py\u001b[0m in \u001b[0;36mload\u001b[0;34m(cls, fname_or_handle, **kwargs)\u001b[0m\n\u001b[1;32m    210\u001b[0m     \u001b[0;34m@\u001b[0m\u001b[0mclassmethod\u001b[0m\u001b[0;34m\u001b[0m\u001b[0;34m\u001b[0m\u001b[0m\n\u001b[1;32m    211\u001b[0m     \u001b[0;32mdef\u001b[0m \u001b[0mload\u001b[0m\u001b[0;34m(\u001b[0m\u001b[0mcls\u001b[0m\u001b[0;34m,\u001b[0m \u001b[0mfname_or_handle\u001b[0m\u001b[0;34m,\u001b[0m \u001b[0;34m**\u001b[0m\u001b[0mkwargs\u001b[0m\u001b[0;34m)\u001b[0m\u001b[0;34m:\u001b[0m\u001b[0;34m\u001b[0m\u001b[0;34m\u001b[0m\u001b[0m\n\u001b[0;32m--> 212\u001b[0;31m         \u001b[0;32mreturn\u001b[0m \u001b[0msuper\u001b[0m\u001b[0;34m(\u001b[0m\u001b[0mBaseKeyedVectors\u001b[0m\u001b[0;34m,\u001b[0m \u001b[0mcls\u001b[0m\u001b[0;34m)\u001b[0m\u001b[0;34m.\u001b[0m\u001b[0mload\u001b[0m\u001b[0;34m(\u001b[0m\u001b[0mfname_or_handle\u001b[0m\u001b[0;34m,\u001b[0m \u001b[0;34m**\u001b[0m\u001b[0mkwargs\u001b[0m\u001b[0;34m)\u001b[0m\u001b[0;34m\u001b[0m\u001b[0;34m\u001b[0m\u001b[0m\n\u001b[0m\u001b[1;32m    213\u001b[0m \u001b[0;34m\u001b[0m\u001b[0m\n\u001b[1;32m    214\u001b[0m     \u001b[0;32mdef\u001b[0m \u001b[0msimilarity\u001b[0m\u001b[0;34m(\u001b[0m\u001b[0mself\u001b[0m\u001b[0;34m,\u001b[0m \u001b[0mentity1\u001b[0m\u001b[0;34m,\u001b[0m \u001b[0mentity2\u001b[0m\u001b[0;34m)\u001b[0m\u001b[0;34m:\u001b[0m\u001b[0;34m\u001b[0m\u001b[0;34m\u001b[0m\u001b[0m\n",
            "\u001b[0;32m/usr/local/lib/python3.6/dist-packages/gensim/utils.py\u001b[0m in \u001b[0;36mload\u001b[0;34m(cls, fname, mmap)\u001b[0m\n\u001b[1;32m    420\u001b[0m         \u001b[0mcompress\u001b[0m\u001b[0;34m,\u001b[0m \u001b[0msubname\u001b[0m \u001b[0;34m=\u001b[0m \u001b[0mSaveLoad\u001b[0m\u001b[0;34m.\u001b[0m\u001b[0m_adapt_by_suffix\u001b[0m\u001b[0;34m(\u001b[0m\u001b[0mfname\u001b[0m\u001b[0;34m)\u001b[0m\u001b[0;34m\u001b[0m\u001b[0;34m\u001b[0m\u001b[0m\n\u001b[1;32m    421\u001b[0m \u001b[0;34m\u001b[0m\u001b[0m\n\u001b[0;32m--> 422\u001b[0;31m         \u001b[0mobj\u001b[0m \u001b[0;34m=\u001b[0m \u001b[0munpickle\u001b[0m\u001b[0;34m(\u001b[0m\u001b[0mfname\u001b[0m\u001b[0;34m)\u001b[0m\u001b[0;34m\u001b[0m\u001b[0;34m\u001b[0m\u001b[0m\n\u001b[0m\u001b[1;32m    423\u001b[0m         \u001b[0mobj\u001b[0m\u001b[0;34m.\u001b[0m\u001b[0m_load_specials\u001b[0m\u001b[0;34m(\u001b[0m\u001b[0mfname\u001b[0m\u001b[0;34m,\u001b[0m \u001b[0mmmap\u001b[0m\u001b[0;34m,\u001b[0m \u001b[0mcompress\u001b[0m\u001b[0;34m,\u001b[0m \u001b[0msubname\u001b[0m\u001b[0;34m)\u001b[0m\u001b[0;34m\u001b[0m\u001b[0;34m\u001b[0m\u001b[0m\n\u001b[1;32m    424\u001b[0m         \u001b[0mlogger\u001b[0m\u001b[0;34m.\u001b[0m\u001b[0minfo\u001b[0m\u001b[0;34m(\u001b[0m\u001b[0;34m\"loaded %s\"\u001b[0m\u001b[0;34m,\u001b[0m \u001b[0mfname\u001b[0m\u001b[0;34m)\u001b[0m\u001b[0;34m\u001b[0m\u001b[0;34m\u001b[0m\u001b[0m\n",
            "\u001b[0;32m/usr/local/lib/python3.6/dist-packages/gensim/utils.py\u001b[0m in \u001b[0;36munpickle\u001b[0;34m(fname)\u001b[0m\n\u001b[1;32m   1359\u001b[0m         \u001b[0;31m# Because of loading from S3 load can't be used (missing readline in smart_open)\u001b[0m\u001b[0;34m\u001b[0m\u001b[0;34m\u001b[0m\u001b[0;34m\u001b[0m\u001b[0m\n\u001b[1;32m   1360\u001b[0m         \u001b[0;32mif\u001b[0m \u001b[0msys\u001b[0m\u001b[0;34m.\u001b[0m\u001b[0mversion_info\u001b[0m \u001b[0;34m>\u001b[0m \u001b[0;34m(\u001b[0m\u001b[0;36m3\u001b[0m\u001b[0;34m,\u001b[0m \u001b[0;36m0\u001b[0m\u001b[0;34m)\u001b[0m\u001b[0;34m:\u001b[0m\u001b[0;34m\u001b[0m\u001b[0;34m\u001b[0m\u001b[0m\n\u001b[0;32m-> 1361\u001b[0;31m             \u001b[0;32mreturn\u001b[0m \u001b[0m_pickle\u001b[0m\u001b[0;34m.\u001b[0m\u001b[0mload\u001b[0m\u001b[0;34m(\u001b[0m\u001b[0mf\u001b[0m\u001b[0;34m,\u001b[0m \u001b[0mencoding\u001b[0m\u001b[0;34m=\u001b[0m\u001b[0;34m'latin1'\u001b[0m\u001b[0;34m)\u001b[0m\u001b[0;34m\u001b[0m\u001b[0;34m\u001b[0m\u001b[0m\n\u001b[0m\u001b[1;32m   1362\u001b[0m         \u001b[0;32melse\u001b[0m\u001b[0;34m:\u001b[0m\u001b[0;34m\u001b[0m\u001b[0;34m\u001b[0m\u001b[0m\n\u001b[1;32m   1363\u001b[0m             \u001b[0;32mreturn\u001b[0m \u001b[0m_pickle\u001b[0m\u001b[0;34m.\u001b[0m\u001b[0mloads\u001b[0m\u001b[0;34m(\u001b[0m\u001b[0mf\u001b[0m\u001b[0;34m.\u001b[0m\u001b[0mread\u001b[0m\u001b[0;34m(\u001b[0m\u001b[0;34m)\u001b[0m\u001b[0;34m)\u001b[0m\u001b[0;34m\u001b[0m\u001b[0;34m\u001b[0m\u001b[0m\n",
            "\u001b[0;31mUnpicklingError\u001b[0m: invalid load key, '5'."
          ]
        }
      ]
    },
    {
      "cell_type": "code",
      "metadata": {
        "id": "_6maqNHY6860"
      },
      "source": [
        "with open('/content/drive/MyDrive/Datasets/nepali_embeddings_word2vec.txt') as f:\n",
        "  f.open()"
      ],
      "execution_count": null,
      "outputs": []
    },
    {
      "cell_type": "code",
      "metadata": {
        "id": "aHIDt_k-8JKL"
      },
      "source": [
        "outF = open(\"/content/drive/MyDrive/Datasets/nepali_embeddings_word2vec.txt\", \"a\")"
      ],
      "execution_count": 36,
      "outputs": []
    },
    {
      "cell_type": "code",
      "metadata": {
        "colab": {
          "base_uri": "https://localhost:8080/"
        },
        "id": "PqI-GnJk8NMn",
        "outputId": "6a715fce-75db-4fa7-a6cd-23e33dd8a2e1"
      },
      "source": [
        "outF"
      ],
      "execution_count": 38,
      "outputs": [
        {
          "output_type": "execute_result",
          "data": {
            "text/plain": [
              "<_io.TextIOWrapper name='/content/drive/MyDrive/Datasets/nepali_embeddings_word2vec.txt' mode='a' encoding='UTF-8'>"
            ]
          },
          "metadata": {
            "tags": []
          },
          "execution_count": 38
        }
      ]
    },
    {
      "cell_type": "code",
      "metadata": {
        "id": "6olehTRL8aw-"
      },
      "source": [
        "my_file = open(\"/content/drive/MyDrive/Datasets/nepali_embeddings_word2vec.txt\")\n",
        "string_list = my_file.readlines()\n",
        "\n",
        "\n",
        "# my_file.close()"
      ],
      "execution_count": 41,
      "outputs": []
    },
    {
      "cell_type": "code",
      "metadata": {
        "id": "bHgGO2IO86nr"
      },
      "source": [
        ""
      ],
      "execution_count": null,
      "outputs": []
    }
  ]
}